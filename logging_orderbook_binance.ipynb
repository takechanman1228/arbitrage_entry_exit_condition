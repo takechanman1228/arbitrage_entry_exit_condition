{
 "cells": [
  {
   "cell_type": "code",
   "execution_count": null,
   "metadata": {
    "collapsed": true
   },
   "outputs": [],
   "source": [
    "fetch Trades\n",
    "BTC\n",
    "\n",
    "binance以外のbittrexとbitfinexがex.symbolsで取得できない"
   ]
  },
  {
   "cell_type": "code",
   "execution_count": 1,
   "metadata": {
    "collapsed": false
   },
   "outputs": [
    {
     "name": "stdout",
     "output_type": "stream",
     "text": [
      "['_1broker', '_1btcxe', 'acx', 'allcoin', 'anxpro', 'binance', 'bit2c', 'bitbay', 'bitcoincoid', 'bitfinex', 'bitfinex2', 'bitflyer', 'bithumb', 'bitlish', 'bitmarket', 'bitmex', 'bitso', 'bitstamp1', 'bitstamp', 'bittrex', 'bl3p', 'bleutrade', 'btcbox', 'btcchina', 'btcexchange', 'btcmarkets', 'btctradeua', 'btcturk', 'btcx', 'bter', 'bxinth', 'ccex', 'cex', 'chbtc', 'chilebit', 'coincheck', 'coinfloor', 'coingi', 'coinmarketcap', 'coinmate', 'coinsecure', 'coinspot', 'cryptopia', 'dsx', 'exmo', 'flowbtc', 'foxbit', 'fybse', 'fybsg', 'gatecoin', 'gdax', 'gemini', 'hitbtc', 'hitbtc2', 'huobi', 'huobicny', 'huobipro', 'independentreserve', 'itbit', 'jubi', 'kraken', 'lakebtc', 'livecoin', 'liqui', 'luno', 'mercado', 'mixcoins', 'nova', 'okcoincny', 'okcoinusd', 'okex', 'paymium', 'poloniex', 'quadrigacx', 'qryptos', 'quoine', 'southxchange', 'surbitcoin', 'tidex', 'therock', 'urdubit', 'vaultoro', 'vbtc', 'virwox', 'wex', 'xbtce', 'yobit', 'yunbi', 'zaif']\n"
     ]
    }
   ],
   "source": [
    "import ccxt\n",
    "import json\n",
    "import pandas as pd\n",
    "import numpy as np\n",
    "%matplotlib inline\n",
    "import matplotlib.pylab\n",
    "from datetime import datetime\n",
    "# import seaborn as sns\n",
    "import pickle\n",
    "print(ccxt.exchanges) # print a list of all available exchange classes"
   ]
  },
  {
   "cell_type": "code",
   "execution_count": 2,
   "metadata": {
    "collapsed": false
   },
   "outputs": [],
   "source": [
    "coincheck = ccxt.coincheck()\n",
    "zaif = ccxt.zaif()\n",
    "bitflyer = ccxt.bitflyer()\n",
    "quoine = ccxt.quoine()\n",
    "binance = ccxt.binance()\n",
    "bittrex = ccxt.bittrex()\n",
    "bitfinex = ccxt.bitfinex()"
   ]
  },
  {
   "cell_type": "code",
   "execution_count": 3,
   "metadata": {
    "collapsed": false
   },
   "outputs": [],
   "source": [
    "from urllib.parse import urlparse\n",
    "import mysql.connector\n",
    "\n",
    "url = urlparse('mysql://take@localhost:3306/bitcoin')\n",
    "\n",
    "conn = mysql.connector.connect(\n",
    "    host = url.hostname or 'take',\n",
    "    port = url.port or 3306,\n",
    "    user = url.username or 'root',\n",
    "    password = url.password or '',\n",
    "    database = url.path[1:],\n",
    ")\n",
    "\n",
    "cur = conn.cursor()"
   ]
  },
  {
   "cell_type": "code",
   "execution_count": 4,
   "metadata": {
    "collapsed": true
   },
   "outputs": [],
   "source": [
    "conn.ping(reconnect=True)"
   ]
  },
  {
   "cell_type": "code",
   "execution_count": null,
   "metadata": {
    "collapsed": false
   },
   "outputs": [],
   "source": []
  },
  {
   "cell_type": "code",
   "execution_count": 5,
   "metadata": {
    "collapsed": false
   },
   "outputs": [
    {
     "data": {
      "text/plain": [
       "[]"
      ]
     },
     "execution_count": 5,
     "metadata": {},
     "output_type": "execute_result"
    }
   ],
   "source": [
    "cur.execute('SELECT * FROM orderbook')\n",
    "cur.fetchall()"
   ]
  },
  {
   "cell_type": "code",
   "execution_count": 9,
   "metadata": {
    "collapsed": false
   },
   "outputs": [
    {
     "data": {
      "text/plain": [
       "['BCC/BTC',\n",
       " 'BNB/BTC',\n",
       " 'BNB/ETH',\n",
       " 'BNT/ETH',\n",
       " 'BQX/BTC',\n",
       " 'BQX/ETH',\n",
       " 'BTC/USDT',\n",
       " 'CTR/BTC',\n",
       " 'CTR/ETH',\n",
       " 'DNT/ETH',\n",
       " 'EOS/ETH',\n",
       " 'ETH/BTC',\n",
       " 'ETH/USDT',\n",
       " 'FUN/BTC',\n",
       " 'FUN/ETH',\n",
       " 'GAS/BTC',\n",
       " 'ICN/ETH',\n",
       " 'IOTA/BTC',\n",
       " 'IOTA/ETH',\n",
       " 'KNC/BTC',\n",
       " 'KNC/ETH',\n",
       " 'LINK/BTC',\n",
       " 'LINK/ETH',\n",
       " 'LTC/BTC',\n",
       " 'MCO/BTC',\n",
       " 'MCO/ETH',\n",
       " 'NEO/BTC',\n",
       " 'NEO/ETH',\n",
       " 'OAX/ETH',\n",
       " 'OMG/BTC',\n",
       " 'OMG/ETH',\n",
       " 'QTUM/BTC',\n",
       " 'QTUM/ETH',\n",
       " 'SALT/BTC',\n",
       " 'SALT/ETH',\n",
       " 'SNGLS/BTC',\n",
       " 'SNGLS/ETH',\n",
       " 'SNM/BTC',\n",
       " 'SNM/ETH',\n",
       " 'SNT/ETH',\n",
       " 'STRAT/BTC',\n",
       " 'STRAT/ETH',\n",
       " 'WTC/BTC',\n",
       " 'WTC/ETH',\n",
       " 'XVG/BTC',\n",
       " 'XVG/ETH',\n",
       " 'ZRX/BTC',\n",
       " 'ZRX/ETH']"
      ]
     },
     "execution_count": 9,
     "metadata": {},
     "output_type": "execute_result"
    }
   ],
   "source": [
    "binance.symbols"
   ]
  },
  {
   "cell_type": "code",
   "execution_count": 10,
   "metadata": {
    "collapsed": true
   },
   "outputs": [],
   "source": [
    "# bitfinex.symbols"
   ]
  },
  {
   "cell_type": "code",
   "execution_count": 7,
   "metadata": {
    "collapsed": true
   },
   "outputs": [],
   "source": [
    "# bittrex.symbols"
   ]
  },
  {
   "cell_type": "code",
   "execution_count": 11,
   "metadata": {
    "collapsed": false
   },
   "outputs": [],
   "source": [
    "symbol_l = []\n",
    "for symbol in binance.symbols:\n",
    "    if symbol[-4:] == \"/BTC\":\n",
    "        symbol_l.append(symbol)\n"
   ]
  },
  {
   "cell_type": "code",
   "execution_count": 12,
   "metadata": {
    "collapsed": false
   },
   "outputs": [
    {
     "data": {
      "text/plain": [
       "['BCC/BTC',\n",
       " 'BNB/BTC',\n",
       " 'BQX/BTC',\n",
       " 'CTR/BTC',\n",
       " 'ETH/BTC',\n",
       " 'FUN/BTC',\n",
       " 'GAS/BTC',\n",
       " 'IOTA/BTC',\n",
       " 'KNC/BTC',\n",
       " 'LINK/BTC',\n",
       " 'LTC/BTC',\n",
       " 'MCO/BTC',\n",
       " 'NEO/BTC',\n",
       " 'OMG/BTC',\n",
       " 'QTUM/BTC',\n",
       " 'SALT/BTC',\n",
       " 'SNGLS/BTC',\n",
       " 'SNM/BTC',\n",
       " 'STRAT/BTC',\n",
       " 'WTC/BTC',\n",
       " 'XVG/BTC',\n",
       " 'ZRX/BTC']"
      ]
     },
     "execution_count": 12,
     "metadata": {},
     "output_type": "execute_result"
    }
   ],
   "source": [
    "symbol_l"
   ]
  },
  {
   "cell_type": "code",
   "execution_count": 16,
   "metadata": {
    "collapsed": false
   },
   "outputs": [],
   "source": [
    "import ssl\n",
    "ssl._create_default_https_context = ssl._create_unverified_context\n",
    "\n",
    "ob=binance.fetch_order_book('ZRX/BTC')"
   ]
  },
  {
   "cell_type": "code",
   "execution_count": 19,
   "metadata": {
    "collapsed": false
   },
   "outputs": [
    {
     "data": {
      "text/plain": [
       "{'ask': 0.00011207,\n",
       " 'average': None,\n",
       " 'baseVolume': 2253278.0,\n",
       " 'bid': 0.0001118,\n",
       " 'change': -2.386,\n",
       " 'close': 0.00011495,\n",
       " 'datetime': '2018-02-19T05:23:55.000Z',\n",
       " 'first': None,\n",
       " 'high': 0.00011803,\n",
       " 'info': {'askPrice': '0.00011207',\n",
       "  'askQty': '500.00000000',\n",
       "  'bidPrice': '0.00011180',\n",
       "  'bidQty': '43.00000000',\n",
       "  'closeTime': 1519017835450,\n",
       "  'count': 9974,\n",
       "  'firstId': 1619518,\n",
       "  'highPrice': '0.00011803',\n",
       "  'lastId': 1629491,\n",
       "  'lastPrice': '0.00011208',\n",
       "  'lastQty': '4.00000000',\n",
       "  'lowPrice': '0.00010821',\n",
       "  'openPrice': '0.00011482',\n",
       "  'openTime': 1518931435450,\n",
       "  'prevClosePrice': '0.00011495',\n",
       "  'priceChange': '-0.00000274',\n",
       "  'priceChangePercent': '-2.386',\n",
       "  'quoteVolume': '253.65566873',\n",
       "  'symbol': 'ZRXBTC',\n",
       "  'volume': '2253278.00000000',\n",
       "  'weightedAvgPrice': '0.00011257'},\n",
       " 'last': 0.00011208,\n",
       " 'low': 0.00010821,\n",
       " 'open': 0.00011482,\n",
       " 'percentage': None,\n",
       " 'quoteVolume': 253.65566873,\n",
       " 'symbol': 'ZRX/BTC',\n",
       " 'timestamp': 1519017835450,\n",
       " 'vwap': 0.00011257}"
      ]
     },
     "execution_count": 19,
     "metadata": {},
     "output_type": "execute_result"
    }
   ],
   "source": [
    "# binance.fetch_ticker('ZRX/BTC')"
   ]
  },
  {
   "cell_type": "code",
   "execution_count": 53,
   "metadata": {
    "collapsed": false
   },
   "outputs": [
    {
     "data": {
      "text/plain": [
       "1519022144082"
      ]
     },
     "execution_count": 53,
     "metadata": {},
     "output_type": "execute_result"
    }
   ],
   "source": [
    "ob[\"timestamp\"]"
   ]
  },
  {
   "cell_type": "code",
   "execution_count": 42,
   "metadata": {
    "collapsed": false
   },
   "outputs": [],
   "source": [
    "# ob[\"asks\"][0][0]*1.05"
   ]
  },
  {
   "cell_type": "code",
   "execution_count": 46,
   "metadata": {
    "collapsed": false
   },
   "outputs": [
    {
     "data": {
      "text/plain": [
       "{0.025: 0, 0.05: 0, 0.075: 0, 0.1: 0, 0.125: 0, 0.15: 0, 0.175: 0, 0.2: 0}"
      ]
     },
     "execution_count": 46,
     "metadata": {},
     "output_type": "execute_result"
    }
   ],
   "source": [
    "percent_list = [0.025,0.05,0.075,0.1,0.125,0.15,0.175,0.2]\n",
    "dict.fromkeys(percent_list,0)"
   ]
  },
  {
   "cell_type": "code",
   "execution_count": 61,
   "metadata": {
    "collapsed": false
   },
   "outputs": [
    {
     "name": "stdout",
     "output_type": "stream",
     "text": [
      "BCC/BTC\n",
      "0.025 108.74800000000005\n",
      "['binance', 'BCC/BTC', 1519022735637, 0.140688, 108.74800000000005, 0, 0, 0, 0, 0, 0, 0]\n",
      "BCC/BTC\n",
      "['binance', 'BNB/BTC', 1519022735766, 0.0010282, 0, 0, 0, 0, 0, 0, 0, 0]\n",
      "BCC/BTC\n",
      "0.025 10165.0\n",
      "0.05 12298.0\n",
      "0.075 15905.0\n",
      "0.1 19598.0\n",
      "0.125 23127.0\n",
      "['binance', 'BQX/BTC', 1519022735838, 0.00038579, 10165.0, 12298.0, 15905.0, 19598.0, 23127.0, 0, 0, 0]\n",
      "BCC/BTC\n",
      "0.025 14434.0\n",
      "0.05 35273.0\n",
      "0.075 60518.0\n",
      "0.1 77034.0\n",
      "0.125 113017.0\n",
      "['binance', 'CTR/BTC', 1519022735889, 8.792e-05, 14434.0, 35273.0, 60518.0, 77034.0, 113017.0, 0, 0, 0]\n",
      "BCC/BTC\n",
      "['binance', 'ETH/BTC', 1519022735948, 0.088291, 0, 0, 0, 0, 0, 0, 0, 0]\n",
      "BCC/BTC\n",
      "0.025 701723.0\n",
      "0.05 1829999.0\n",
      "0.075 2453020.0\n",
      "0.1 3760095.0\n",
      "0.125 5075258.0\n",
      "0.15 6135744.0\n",
      "['binance', 'FUN/BTC', 1519022735995, 5.8e-06, 701723.0, 1829999.0, 2453020.0, 3760095.0, 5075258.0, 6135744.0, 0, 0]\n",
      "BCC/BTC\n",
      "0.025 1497.2600000000002\n",
      "0.05 2377.940000000001\n",
      "['binance', 'GAS/BTC', 1519022736109, 0.004393, 1497.2600000000002, 2377.940000000001, 0, 0, 0, 0, 0, 0]\n",
      "BCC/BTC\n",
      "0.025 35291.0\n",
      "['binance', 'IOTA/BTC', 1519022736176, 0.00019351, 35291.0, 0, 0, 0, 0, 0, 0, 0]\n",
      "BCC/BTC\n",
      "0.025 11489.0\n",
      "0.05 16595.0\n",
      "0.075 25199.0\n",
      "0.1 32835.0\n",
      "['binance', 'KNC/BTC', 1519022736251, 0.00024355, 11489.0, 16595.0, 25199.0, 32835.0, 0, 0, 0, 0]\n",
      "BCC/BTC\n",
      "0.025 93629.0\n",
      "['binance', 'LINK/BTC', 1519022736300, 7.18e-05, 93629.0, 0, 0, 0, 0, 0, 0, 0]\n",
      "BCC/BTC\n",
      "['binance', 'LTC/BTC', 1519022736353, 0.02053, 0, 0, 0, 0, 0, 0, 0, 0]\n",
      "BCC/BTC\n",
      "0.025 1381.1999999999998\n",
      "0.05 1448.4999999999995\n",
      "0.075 2399.2599999999993\n",
      "0.1 6138.06\n",
      "0.125 8057.720000000001\n",
      "0.15 11527.330000000002\n",
      "0.175 15171.509999999998\n",
      "['binance', 'MCO/BTC', 1519022736409, 0.000842, 1381.1999999999998, 1448.4999999999995, 2399.2599999999993, 6138.06, 8057.720000000001, 11527.330000000002, 15171.509999999998, 0]\n",
      "BCC/BTC\n",
      "['binance', 'NEO/BTC', 1519022736468, 0.012217, 0, 0, 0, 0, 0, 0, 0, 0]\n",
      "BCC/BTC\n",
      "0.025 3292.1299999999997\n",
      "0.05 5196.179999999999\n",
      "0.075 11389.260000000002\n",
      "0.1 15078.110000000002\n",
      "['binance', 'OMG/BTC', 1519022736517, 0.001591, 3292.1299999999997, 5196.179999999999, 11389.260000000002, 15078.110000000002, 0, 0, 0, 0]\n",
      "BCC/BTC\n",
      "0.025 3845.3799999999997\n",
      "0.05 5335.719999999999\n",
      "0.075 6109.969999999998\n",
      "['binance', 'QTUM/BTC', 1519022736567, 0.002911, 3845.3799999999997, 5335.719999999999, 6109.969999999998, 0, 0, 0, 0, 0]\n",
      "BCC/BTC\n",
      "0.025 5872.28\n",
      "0.05 7861.479999999999\n",
      "0.075 20341.37\n",
      "0.1 25166.410000000003\n",
      "0.125 31710.130000000005\n",
      "0.15 37798.55000000001\n",
      "0.175 44412.27000000001\n",
      "0.2 50536.76000000001\n",
      "['binance', 'SALT/BTC', 1519022736645, 0.000452, 5872.28, 7861.479999999999, 20341.37, 25166.410000000003, 31710.130000000005, 37798.55000000001, 44412.27000000001, 50536.76000000001]\n",
      "BCC/BTC\n",
      "0.025 93061.0\n",
      "0.05 126455.0\n",
      "0.075 143662.0\n",
      "0.1 284354.0\n",
      "0.125 368742.0\n",
      "['binance', 'SNGLS/BTC', 1519022736727, 1.279e-05, 93061.0, 126455.0, 143662.0, 284354.0, 368742.0, 0, 0, 0]\n",
      "BCC/BTC\n",
      "0.025 60338.0\n",
      "0.05 95982.0\n",
      "0.075 229043.0\n",
      "['binance', 'SNM/BTC', 1519022736782, 2.718e-05, 60338.0, 95982.0, 229043.0, 0, 0, 0, 0, 0]\n",
      "BCC/BTC\n",
      "0.025 3279.58\n",
      "0.05 7670.74\n",
      "0.075 14470.979999999996\n",
      "0.1 34143.649999999994\n",
      "['binance', 'STRAT/BTC', 1519022736828, 0.000856, 3279.58, 7670.74, 14470.979999999996, 34143.649999999994, 0, 0, 0, 0]\n",
      "BCC/BTC\n",
      "0.025 3434.4699999999993\n",
      "0.05 5822.0599999999995\n",
      "['binance', 'WTC/BTC', 1519022736899, 0.0024197, 3434.4699999999993, 5822.0599999999995, 0, 0, 0, 0, 0, 0]\n",
      "BCC/BTC\n",
      "0.025 924906.0\n",
      "0.05 2166452.0\n",
      "0.075 5951321.0\n",
      "0.1 8968984.0\n",
      "0.125 12003920.0\n",
      "['binance', 'XVG/BTC', 1519022737001, 7.35e-06, 924906.0, 2166452.0, 5951321.0, 8968984.0, 12003920.0, 0, 0, 0]\n",
      "BCC/BTC\n",
      "0.025 18343.0\n",
      "0.05 29959.0\n",
      "['binance', 'ZRX/BTC', 1519022737078, 0.00011173, 18343.0, 29959.0, 0, 0, 0, 0, 0, 0]\n"
     ]
    }
   ],
   "source": [
    "exchange_name = \"binance\"\n",
    "percent_list = [0.025,0.05,0.075,0.1,0.125,0.15,0.175,0.2]\n",
    "for pair_name in symbol_l:\n",
    "    ob=binance.fetch_order_book(pair_name)\n",
    "    print(pair)\n",
    "    percent_coint_dict = dict.fromkeys(percent_list,0)\n",
    "    timestamp = ob[\"timestamp\"]\n",
    "    best_ask = ob[\"asks\"][0][0]\n",
    "    \n",
    "    for percent in percent_list:\n",
    "    # for percent in [0.01,0.025,0.075,0.1,0.125,0.15,0.175,0.2]:\n",
    "        sum_coin_amount = 0\n",
    "        flag_dict = {}\n",
    "        for ask in ob[\"asks\"]:\n",
    "    #         print(ob[\"asks\"][0][0]*(1+percent),)\n",
    "            # ask[0]-> price\n",
    "            # ask[1]->amount\n",
    "            sum_coin_amount+=ask[1]\n",
    "            # ob[\"asks\"][0][0]はbest ask\n",
    "            # 価格が2.5%とかこえたとき\n",
    "            if best_ask*(1+percent) < ask[0]:\n",
    "                print(percent,sum_coin_amount)\n",
    "                percent_coint_dict[percent] = sum_coin_amount\n",
    "    #             flag = 1\n",
    "                break\n",
    "    # 一行挿入\n",
    "    sql_string = \"INSERT INTO orderbook \\\n",
    "    (exchange_name,pair_name,timestamp,best_ask,`2_5`,`5`,`7_5`,`10`,`12_5`,`15`,`17_5`,`20`) \\\n",
    "    VALUES (%s,%s,%s,%s,%s,%s,%s,%s,%s,%s,%s,%s)\"\n",
    "    percent_amount_list = []\n",
    "    # 2_5,5,7_5,10,12_5,15,17_5,20\n",
    "    for percent in percent_list:\n",
    "        amount = percent_coint_dict[percent]\n",
    "        percent_amount_list.append(amount)\n",
    "    try:\n",
    "#         print(sql_string)\n",
    "        print([exchange_name,pair_name,timestamp,best_ask]+percent_amount_list)\n",
    "        cur.execute(sql_string, [exchange_name,pair_name,timestamp,best_ask]+percent_amount_list)\n",
    "        conn.commit()\n",
    "    except:\n",
    "\n",
    "        conn.rollback()\n",
    "        raise"
   ]
  },
  {
   "cell_type": "code",
   "execution_count": null,
   "metadata": {
    "collapsed": true
   },
   "outputs": [],
   "source": []
  },
  {
   "cell_type": "code",
   "execution_count": null,
   "metadata": {
    "collapsed": true
   },
   "outputs": [],
   "source": []
  },
  {
   "cell_type": "code",
   "execution_count": null,
   "metadata": {
    "collapsed": true
   },
   "outputs": [],
   "source": []
  },
  {
   "cell_type": "code",
   "execution_count": null,
   "metadata": {
    "collapsed": true
   },
   "outputs": [],
   "source": []
  },
  {
   "cell_type": "code",
   "execution_count": null,
   "metadata": {
    "collapsed": true
   },
   "outputs": [],
   "source": []
  }
 ],
 "metadata": {
  "anaconda-cloud": {},
  "kernelspec": {
   "display_name": "Python [Root]",
   "language": "python",
   "name": "Python [Root]"
  },
  "language_info": {
   "codemirror_mode": {
    "name": "ipython",
    "version": 3
   },
   "file_extension": ".py",
   "mimetype": "text/x-python",
   "name": "python",
   "nbconvert_exporter": "python",
   "pygments_lexer": "ipython3",
   "version": "3.5.1"
  }
 },
 "nbformat": 4,
 "nbformat_minor": 0
}

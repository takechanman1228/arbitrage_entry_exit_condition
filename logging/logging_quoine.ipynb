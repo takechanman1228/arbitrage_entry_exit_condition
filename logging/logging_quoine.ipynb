{
 "cells": [
  {
   "cell_type": "code",
   "execution_count": 2,
   "metadata": {
    "collapsed": false
   },
   "outputs": [
    {
     "name": "stdout",
     "output_type": "stream",
     "text": [
      "['_1broker', '_1btcxe', 'anxpro', 'binance', 'bit2c', 'bitbay', 'bitbays', 'bitcoincoid', 'bitfinex', 'bitflyer', 'bitlish', 'bitmarket', 'bitmex', 'bitso', 'bitstamp', 'bittrex', 'bl3p', 'btcchina', 'btce', 'btcexchange', 'btcmarkets', 'btctradeua', 'btcturk', 'btcx', 'bter', 'bxinth', 'ccex', 'cex', 'chbtc', 'chilebit', 'coincheck', 'coinfloor', 'coingi', 'coinmarketcap', 'coinmate', 'coinsecure', 'coinspot', 'cryptopia', 'dsx', 'exmo', 'flowbtc', 'foxbit', 'fybse', 'fybsg', 'gatecoin', 'gdax', 'gemini', 'hitbtc', 'huobi', 'itbit', 'jubi', 'kraken', 'lakebtc', 'livecoin', 'liqui', 'luno', 'mercado', 'okcoincny', 'okcoinusd', 'okex', 'paymium', 'poloniex', 'quadrigacx', 'quoine', 'southxchange', 'surbitcoin', 'therock', 'urdubit', 'vaultoro', 'vbtc', 'virwox', 'xbtce', 'yobit', 'yunbi', 'zaif']\n"
     ]
    }
   ],
   "source": [
    "import ccxt\n",
    "import json\n",
    "import pandas as pd\n",
    "import numpy as np\n",
    "%matplotlib inline\n",
    "import matplotlib.pylab\n",
    "from datetime import datetime\n",
    "import time\n",
    "# import seaborn as sns\n",
    "\n",
    "import pickle\n",
    "print(ccxt.exchanges) # print a list of all available exchange classes"
   ]
  },
  {
   "cell_type": "code",
   "execution_count": 2,
   "metadata": {
    "collapsed": false
   },
   "outputs": [],
   "source": [
    "# quoine = ccxt.quoine()\n",
    "# quoine.fetchTrades(\"BTC/JPY\")"
   ]
  },
  {
   "cell_type": "code",
   "execution_count": 3,
   "metadata": {
    "collapsed": true
   },
   "outputs": [],
   "source": [
    "def create_df_trade_quoine(trade_dict, csv_name):\n",
    "    dictlist = []\n",
    "    for key, value in trade_dict.items():\n",
    "    #     print(key,value)\n",
    "        dictlist.append(value)\n",
    "\n",
    "    trade_list = []\n",
    "    for key, trade in trade_dict.items():\n",
    "        trade_list.append([csv_name,trade[\"id\"],trade[\"created_at\"],trade[\"quantity\"],trade[\"taker_side\"],trade[\"price\"]])\n",
    "    df_trade=pd.DataFrame(trade_list)\n",
    "    df_trade.columns=[csv_name,\"id\",\"created_at\",\"amount\",\"order_type\",\"rate\"]\n",
    "    df_trade[\"created_at\"]=pd.to_datetime(df_trade[\"created_at\"])\n",
    "    df_trade[\"amount\"]=df_trade[\"amount\"].convert_objects(convert_numeric=True)\n",
    "\n",
    "    df_trade.index=df_trade[\"created_at\"]\n",
    "    df_trade=df_trade.sort_values('created_at')\n",
    "    df_trade_amount=df_trade[[\"amount\"]]\n",
    "    \n",
    "    df_trade.to_csv(csv_name+datetime.now().strftime('%Y-%m-%d')+\".csv\")"
   ]
  },
  {
   "cell_type": "code",
   "execution_count": 9,
   "metadata": {
    "collapsed": false
   },
   "outputs": [],
   "source": [
    "quoine = ccxt.quoine()\n",
    "trade_dict={}\n",
    "trades=quoine.fetchTrades(\"BTC/JPY\")[\"models\"]\n",
    "for trade in trades:\n",
    "    trade_dict[trade[\"id\"]] = trade"
   ]
  },
  {
   "cell_type": "code",
   "execution_count": 6,
   "metadata": {
    "collapsed": false
   },
   "outputs": [],
   "source": [
    "time.sleep(3)"
   ]
  },
  {
   "cell_type": "code",
   "execution_count": null,
   "metadata": {
    "collapsed": false
   },
   "outputs": [
    {
     "name": "stdout",
     "output_type": "stream",
     "text": [
      "10\n"
     ]
    },
    {
     "name": "stderr",
     "output_type": "stream",
     "text": [
      "/home/take/.pyenv/versions/anaconda3-4.1.1/lib/python3.5/site-packages/ipykernel/__main__.py:13: FutureWarning: convert_objects is deprecated.  Use the data-type specific converters pd.to_datetime, pd.to_timedelta and pd.to_numeric.\n"
     ]
    },
    {
     "name": "stdout",
     "output_type": "stream",
     "text": [
      "20\n",
      "30\n",
      "40\n",
      "50\n",
      "'utf-8' codec can't decode byte 0x8b in position 1: invalid start byte\n",
      "1\n",
      "[{'id': 10084709, 'taker_side': 'sell', 'created_at': 1504067657, 'price': '507729.23', 'quantity': '0.02'}, {'id': 10084708, 'taker_side': 'buy', 'created_at': 1504067597, 'price': '508970.0', 'quantity': '0.28402'}, {'id': 10084707, 'taker_side': 'buy', 'created_at': 1504067597, 'price': '508969.99', 'quantity': '0.3624'}, {'id': 10084706, 'taker_side': 'buy', 'created_at': 1504067589, 'price': '508970.0', 'quantity': '2.0'}, {'id': 10084705, 'taker_side': 'buy', 'created_at': 1504067522, 'price': '508782.99', 'quantity': '1.0'}, {'id': 10084703, 'taker_side': 'sell', 'created_at': 1504067471, 'price': '507000.0', 'quantity': '0.0112'}, {'id': 10084702, 'taker_side': 'buy', 'created_at': 1504067468, 'price': '508876.0', 'quantity': '0.2498'}, {'id': 10084701, 'taker_side': 'buy', 'created_at': 1504067468, 'price': '508876.0', 'quantity': '1.1'}, {'id': 10084700, 'taker_side': 'buy', 'created_at': 1504067468, 'price': '508875.99', 'quantity': '0.6102'}, {'id': 10084699, 'taker_side': 'buy', 'created_at': 1504067468, 'price': '506990.0', 'quantity': '0.04'}, {'id': 10084693, 'taker_side': 'sell', 'created_at': 1504067314, 'price': '506483.0', 'quantity': '0.8772'}, {'id': 10084692, 'taker_side': 'sell', 'created_at': 1504067314, 'price': '506484.0', 'quantity': '0.2128'}, {'id': 10084691, 'taker_side': 'sell', 'created_at': 1504067313, 'price': '506484.0', 'quantity': '0.18'}, {'id': 10084690, 'taker_side': 'sell', 'created_at': 1504067313, 'price': '506484.0', 'quantity': '0.18'}, {'id': 10084689, 'taker_side': 'sell', 'created_at': 1504067312, 'price': '506484.0', 'quantity': '0.18'}, {'id': 10084688, 'taker_side': 'sell', 'created_at': 1504067311, 'price': '506484.0', 'quantity': '0.4'}, {'id': 10084680, 'taker_side': 'sell', 'created_at': 1504067178, 'price': '506132.01', 'quantity': '0.02'}, {'id': 10084679, 'taker_side': 'buy', 'created_at': 1504067168, 'price': '507470.0', 'quantity': '0.9386'}, {'id': 10084678, 'taker_side': 'buy', 'created_at': 1504067168, 'price': '507469.99', 'quantity': '1.0614'}, {'id': 10084676, 'taker_side': 'buy', 'created_at': 1504067136, 'price': '507842.99', 'quantity': '1.1452'}]\n",
      "'utf-8' codec can't decode byte 0x8b in position 1: invalid start byte\n",
      "2\n",
      "[{'id': 10084709, 'taker_side': 'sell', 'created_at': 1504067657, 'price': '507729.23', 'quantity': '0.02'}, {'id': 10084708, 'taker_side': 'buy', 'created_at': 1504067597, 'price': '508970.0', 'quantity': '0.28402'}, {'id': 10084707, 'taker_side': 'buy', 'created_at': 1504067597, 'price': '508969.99', 'quantity': '0.3624'}, {'id': 10084706, 'taker_side': 'buy', 'created_at': 1504067589, 'price': '508970.0', 'quantity': '2.0'}, {'id': 10084705, 'taker_side': 'buy', 'created_at': 1504067522, 'price': '508782.99', 'quantity': '1.0'}, {'id': 10084703, 'taker_side': 'sell', 'created_at': 1504067471, 'price': '507000.0', 'quantity': '0.0112'}, {'id': 10084702, 'taker_side': 'buy', 'created_at': 1504067468, 'price': '508876.0', 'quantity': '0.2498'}, {'id': 10084701, 'taker_side': 'buy', 'created_at': 1504067468, 'price': '508876.0', 'quantity': '1.1'}, {'id': 10084700, 'taker_side': 'buy', 'created_at': 1504067468, 'price': '508875.99', 'quantity': '0.6102'}, {'id': 10084699, 'taker_side': 'buy', 'created_at': 1504067468, 'price': '506990.0', 'quantity': '0.04'}, {'id': 10084693, 'taker_side': 'sell', 'created_at': 1504067314, 'price': '506483.0', 'quantity': '0.8772'}, {'id': 10084692, 'taker_side': 'sell', 'created_at': 1504067314, 'price': '506484.0', 'quantity': '0.2128'}, {'id': 10084691, 'taker_side': 'sell', 'created_at': 1504067313, 'price': '506484.0', 'quantity': '0.18'}, {'id': 10084690, 'taker_side': 'sell', 'created_at': 1504067313, 'price': '506484.0', 'quantity': '0.18'}, {'id': 10084689, 'taker_side': 'sell', 'created_at': 1504067312, 'price': '506484.0', 'quantity': '0.18'}, {'id': 10084688, 'taker_side': 'sell', 'created_at': 1504067311, 'price': '506484.0', 'quantity': '0.4'}, {'id': 10084680, 'taker_side': 'sell', 'created_at': 1504067178, 'price': '506132.01', 'quantity': '0.02'}, {'id': 10084679, 'taker_side': 'buy', 'created_at': 1504067168, 'price': '507470.0', 'quantity': '0.9386'}, {'id': 10084678, 'taker_side': 'buy', 'created_at': 1504067168, 'price': '507469.99', 'quantity': '1.0614'}, {'id': 10084676, 'taker_side': 'buy', 'created_at': 1504067136, 'price': '507842.99', 'quantity': '1.1452'}]\n",
      "'utf-8' codec can't decode byte 0x8b in position 1: invalid start byte\n",
      "3\n",
      "[{'id': 10084709, 'taker_side': 'sell', 'created_at': 1504067657, 'price': '507729.23', 'quantity': '0.02'}, {'id': 10084708, 'taker_side': 'buy', 'created_at': 1504067597, 'price': '508970.0', 'quantity': '0.28402'}, {'id': 10084707, 'taker_side': 'buy', 'created_at': 1504067597, 'price': '508969.99', 'quantity': '0.3624'}, {'id': 10084706, 'taker_side': 'buy', 'created_at': 1504067589, 'price': '508970.0', 'quantity': '2.0'}, {'id': 10084705, 'taker_side': 'buy', 'created_at': 1504067522, 'price': '508782.99', 'quantity': '1.0'}, {'id': 10084703, 'taker_side': 'sell', 'created_at': 1504067471, 'price': '507000.0', 'quantity': '0.0112'}, {'id': 10084702, 'taker_side': 'buy', 'created_at': 1504067468, 'price': '508876.0', 'quantity': '0.2498'}, {'id': 10084701, 'taker_side': 'buy', 'created_at': 1504067468, 'price': '508876.0', 'quantity': '1.1'}, {'id': 10084700, 'taker_side': 'buy', 'created_at': 1504067468, 'price': '508875.99', 'quantity': '0.6102'}, {'id': 10084699, 'taker_side': 'buy', 'created_at': 1504067468, 'price': '506990.0', 'quantity': '0.04'}, {'id': 10084693, 'taker_side': 'sell', 'created_at': 1504067314, 'price': '506483.0', 'quantity': '0.8772'}, {'id': 10084692, 'taker_side': 'sell', 'created_at': 1504067314, 'price': '506484.0', 'quantity': '0.2128'}, {'id': 10084691, 'taker_side': 'sell', 'created_at': 1504067313, 'price': '506484.0', 'quantity': '0.18'}, {'id': 10084690, 'taker_side': 'sell', 'created_at': 1504067313, 'price': '506484.0', 'quantity': '0.18'}, {'id': 10084689, 'taker_side': 'sell', 'created_at': 1504067312, 'price': '506484.0', 'quantity': '0.18'}, {'id': 10084688, 'taker_side': 'sell', 'created_at': 1504067311, 'price': '506484.0', 'quantity': '0.4'}, {'id': 10084680, 'taker_side': 'sell', 'created_at': 1504067178, 'price': '506132.01', 'quantity': '0.02'}, {'id': 10084679, 'taker_side': 'buy', 'created_at': 1504067168, 'price': '507470.0', 'quantity': '0.9386'}, {'id': 10084678, 'taker_side': 'buy', 'created_at': 1504067168, 'price': '507469.99', 'quantity': '1.0614'}, {'id': 10084676, 'taker_side': 'buy', 'created_at': 1504067136, 'price': '507842.99', 'quantity': '1.1452'}]\n",
      "'utf-8' codec can't decode byte 0x8b in position 1: invalid start byte\n",
      "4\n",
      "[{'id': 10084709, 'taker_side': 'sell', 'created_at': 1504067657, 'price': '507729.23', 'quantity': '0.02'}, {'id': 10084708, 'taker_side': 'buy', 'created_at': 1504067597, 'price': '508970.0', 'quantity': '0.28402'}, {'id': 10084707, 'taker_side': 'buy', 'created_at': 1504067597, 'price': '508969.99', 'quantity': '0.3624'}, {'id': 10084706, 'taker_side': 'buy', 'created_at': 1504067589, 'price': '508970.0', 'quantity': '2.0'}, {'id': 10084705, 'taker_side': 'buy', 'created_at': 1504067522, 'price': '508782.99', 'quantity': '1.0'}, {'id': 10084703, 'taker_side': 'sell', 'created_at': 1504067471, 'price': '507000.0', 'quantity': '0.0112'}, {'id': 10084702, 'taker_side': 'buy', 'created_at': 1504067468, 'price': '508876.0', 'quantity': '0.2498'}, {'id': 10084701, 'taker_side': 'buy', 'created_at': 1504067468, 'price': '508876.0', 'quantity': '1.1'}, {'id': 10084700, 'taker_side': 'buy', 'created_at': 1504067468, 'price': '508875.99', 'quantity': '0.6102'}, {'id': 10084699, 'taker_side': 'buy', 'created_at': 1504067468, 'price': '506990.0', 'quantity': '0.04'}, {'id': 10084693, 'taker_side': 'sell', 'created_at': 1504067314, 'price': '506483.0', 'quantity': '0.8772'}, {'id': 10084692, 'taker_side': 'sell', 'created_at': 1504067314, 'price': '506484.0', 'quantity': '0.2128'}, {'id': 10084691, 'taker_side': 'sell', 'created_at': 1504067313, 'price': '506484.0', 'quantity': '0.18'}, {'id': 10084690, 'taker_side': 'sell', 'created_at': 1504067313, 'price': '506484.0', 'quantity': '0.18'}, {'id': 10084689, 'taker_side': 'sell', 'created_at': 1504067312, 'price': '506484.0', 'quantity': '0.18'}, {'id': 10084688, 'taker_side': 'sell', 'created_at': 1504067311, 'price': '506484.0', 'quantity': '0.4'}, {'id': 10084680, 'taker_side': 'sell', 'created_at': 1504067178, 'price': '506132.01', 'quantity': '0.02'}, {'id': 10084679, 'taker_side': 'buy', 'created_at': 1504067168, 'price': '507470.0', 'quantity': '0.9386'}, {'id': 10084678, 'taker_side': 'buy', 'created_at': 1504067168, 'price': '507469.99', 'quantity': '1.0614'}, {'id': 10084676, 'taker_side': 'buy', 'created_at': 1504067136, 'price': '507842.99', 'quantity': '1.1452'}]\n",
      "'utf-8' codec can't decode byte 0x8b in position 1: invalid start byte\n",
      "5\n",
      "[{'id': 10084709, 'taker_side': 'sell', 'created_at': 1504067657, 'price': '507729.23', 'quantity': '0.02'}, {'id': 10084708, 'taker_side': 'buy', 'created_at': 1504067597, 'price': '508970.0', 'quantity': '0.28402'}, {'id': 10084707, 'taker_side': 'buy', 'created_at': 1504067597, 'price': '508969.99', 'quantity': '0.3624'}, {'id': 10084706, 'taker_side': 'buy', 'created_at': 1504067589, 'price': '508970.0', 'quantity': '2.0'}, {'id': 10084705, 'taker_side': 'buy', 'created_at': 1504067522, 'price': '508782.99', 'quantity': '1.0'}, {'id': 10084703, 'taker_side': 'sell', 'created_at': 1504067471, 'price': '507000.0', 'quantity': '0.0112'}, {'id': 10084702, 'taker_side': 'buy', 'created_at': 1504067468, 'price': '508876.0', 'quantity': '0.2498'}, {'id': 10084701, 'taker_side': 'buy', 'created_at': 1504067468, 'price': '508876.0', 'quantity': '1.1'}, {'id': 10084700, 'taker_side': 'buy', 'created_at': 1504067468, 'price': '508875.99', 'quantity': '0.6102'}, {'id': 10084699, 'taker_side': 'buy', 'created_at': 1504067468, 'price': '506990.0', 'quantity': '0.04'}, {'id': 10084693, 'taker_side': 'sell', 'created_at': 1504067314, 'price': '506483.0', 'quantity': '0.8772'}, {'id': 10084692, 'taker_side': 'sell', 'created_at': 1504067314, 'price': '506484.0', 'quantity': '0.2128'}, {'id': 10084691, 'taker_side': 'sell', 'created_at': 1504067313, 'price': '506484.0', 'quantity': '0.18'}, {'id': 10084690, 'taker_side': 'sell', 'created_at': 1504067313, 'price': '506484.0', 'quantity': '0.18'}, {'id': 10084689, 'taker_side': 'sell', 'created_at': 1504067312, 'price': '506484.0', 'quantity': '0.18'}, {'id': 10084688, 'taker_side': 'sell', 'created_at': 1504067311, 'price': '506484.0', 'quantity': '0.4'}, {'id': 10084680, 'taker_side': 'sell', 'created_at': 1504067178, 'price': '506132.01', 'quantity': '0.02'}, {'id': 10084679, 'taker_side': 'buy', 'created_at': 1504067168, 'price': '507470.0', 'quantity': '0.9386'}, {'id': 10084678, 'taker_side': 'buy', 'created_at': 1504067168, 'price': '507469.99', 'quantity': '1.0614'}, {'id': 10084676, 'taker_side': 'buy', 'created_at': 1504067136, 'price': '507842.99', 'quantity': '1.1452'}]\n"
     ]
    }
   ],
   "source": [
    "i = 0\n",
    "trade_dict={}\n",
    "quoine = ccxt.quoine()\n",
    "name = \"quoine\"\n",
    "sleep_time = 1\n",
    "while True:\n",
    "#     if sleep_time > 1:\n",
    "    time.sleep(sleep_time) # quoineはおこられる\n",
    "    try:\n",
    "        \n",
    "        trades=quoine.fetchTrades(\"BTC/JPY\")[\"models\"]\n",
    "        for trade in trades:\n",
    "            trade_dict[trade[\"id\"]] = trade\n",
    "        #     print(trade)\n",
    "        #     trade_list.append([\"coincheck\",trade[\"id\"],trade[\"created_at\"],trade[\"amount\"],trade[\"order_type\"],trade[\"rate\"]])\n",
    "        if sleep_time>1:\n",
    "            sleep_time -= 1\n",
    "        i += 1\n",
    "    except Exception as e: \n",
    "        print(e)\n",
    "        print(sleep_time)\n",
    "        print(trades)\n",
    "        with open(name+\"my_error.log\", \"w\") as f:\n",
    "            f.write(datetime.now().strftime('%Y-%m-%d')+'Failed to access API')\n",
    "    \n",
    "        sleep_time = sleep_time + 1\n",
    "    #     書き込み\n",
    "    try:\n",
    "        if i %10 == 0:\n",
    "            print(i)\n",
    "            create_df_trade_quoine(trade_dict, name)\n",
    "            with open(name+'_log.pickle', mode='wb') as f:\n",
    "                pickle.dump(trade_dict, f)\n",
    "            # TODO:trade_dictが重そうやったらtrade_dict,df_tradeを初期化する\n",
    "    except Exception as e: \n",
    "        print(e)\n",
    "        print('Failed to write')\n",
    "        with open(name+\"_error.log\", \"w\") as f:\n",
    "            f.write(datetime.now().strftime('%Y-%m-%d')+'Failed to write')"
   ]
  },
  {
   "cell_type": "code",
   "execution_count": null,
   "metadata": {
    "collapsed": false
   },
   "outputs": [],
   "source": []
  },
  {
   "cell_type": "code",
   "execution_count": 5,
   "metadata": {
    "collapsed": false
   },
   "outputs": [
    {
     "ename": "NameError",
     "evalue": "name 'a' is not defined",
     "output_type": "error",
     "traceback": [
      "\u001b[1;31m\u001b[0m",
      "\u001b[1;31mNameError\u001b[0mTraceback (most recent call last)",
      "\u001b[1;32m<ipython-input-5-60b725f10c9c>\u001b[0m in \u001b[0;36m<module>\u001b[1;34m()\u001b[0m\n\u001b[1;32m----> 1\u001b[1;33m \u001b[0ma\u001b[0m\u001b[1;33m\u001b[0m\u001b[0m\n\u001b[0m",
      "\u001b[1;31mNameError\u001b[0m: name 'a' is not defined"
     ]
    }
   ],
   "source": [
    "a"
   ]
  },
  {
   "cell_type": "code",
   "execution_count": 17,
   "metadata": {
    "collapsed": false
   },
   "outputs": [
    {
     "data": {
      "text/plain": [
       "{10047179: {'created_at': 1503729876,\n",
       "  'id': 10047179,\n",
       "  'price': '474126.95',\n",
       "  'quantity': '0.1',\n",
       "  'taker_side': 'buy'},\n",
       " 10047180: {'created_at': 1503729908,\n",
       "  'id': 10047180,\n",
       "  'price': '474126.96',\n",
       "  'quantity': '0.05786',\n",
       "  'taker_side': 'buy'},\n",
       " 10047181: {'created_at': 1503729908,\n",
       "  'id': 10047181,\n",
       "  'price': '474126.96',\n",
       "  'quantity': '0.04214',\n",
       "  'taker_side': 'buy'},\n",
       " 10047182: {'created_at': 1503729938,\n",
       "  'id': 10047182,\n",
       "  'price': '474126.96',\n",
       "  'quantity': '0.05786',\n",
       "  'taker_side': 'buy'},\n",
       " 10047183: {'created_at': 1503729938,\n",
       "  'id': 10047183,\n",
       "  'price': '474368.91',\n",
       "  'quantity': '0.042',\n",
       "  'taker_side': 'buy'},\n",
       " 10047184: {'created_at': 1503729972,\n",
       "  'id': 10047184,\n",
       "  'price': '474175.54414',\n",
       "  'quantity': '0.4966',\n",
       "  'taker_side': 'sell'},\n",
       " 10047185: {'created_at': 1503730060,\n",
       "  'id': 10047185,\n",
       "  'price': '474368.92',\n",
       "  'quantity': '0.1',\n",
       "  'taker_side': 'buy'},\n",
       " 10047186: {'created_at': 1503730066,\n",
       "  'id': 10047186,\n",
       "  'price': '474365.31906',\n",
       "  'quantity': '0.4964',\n",
       "  'taker_side': 'buy'},\n",
       " 10047187: {'created_at': 1503730154,\n",
       "  'id': 10047187,\n",
       "  'price': '474175.54414',\n",
       "  'quantity': '0.509',\n",
       "  'taker_side': 'sell'},\n",
       " 10047188: {'created_at': 1503730178,\n",
       "  'id': 10047188,\n",
       "  'price': '474365.33116',\n",
       "  'quantity': '0.34',\n",
       "  'taker_side': 'buy'},\n",
       " 10047189: {'created_at': 1503730246,\n",
       "  'id': 10047189,\n",
       "  'price': '474365.33',\n",
       "  'quantity': '0.1',\n",
       "  'taker_side': 'sell'},\n",
       " 10047190: {'created_at': 1503730248,\n",
       "  'id': 10047190,\n",
       "  'price': '474175.54414',\n",
       "  'quantity': '0.04',\n",
       "  'taker_side': 'sell'},\n",
       " 10047191: {'created_at': 1503730265,\n",
       "  'id': 10047191,\n",
       "  'price': '474365.33',\n",
       "  'quantity': '0.04',\n",
       "  'taker_side': 'buy'},\n",
       " 10047192: {'created_at': 1503730286,\n",
       "  'id': 10047192,\n",
       "  'price': '474365.33',\n",
       "  'quantity': '0.06',\n",
       "  'taker_side': 'buy'},\n",
       " 10047193: {'created_at': 1503730288,\n",
       "  'id': 10047193,\n",
       "  'price': '474555.05',\n",
       "  'quantity': '0.04',\n",
       "  'taker_side': 'sell'},\n",
       " 10047194: {'created_at': 1503730288,\n",
       "  'id': 10047194,\n",
       "  'price': '474533.70926',\n",
       "  'quantity': '0.49012',\n",
       "  'taker_side': 'sell'},\n",
       " 10047195: {'created_at': 1503730292,\n",
       "  'id': 10047195,\n",
       "  'price': '474555.05',\n",
       "  'quantity': '0.06988',\n",
       "  'taker_side': 'sell'},\n",
       " 10047196: {'created_at': 1503730294,\n",
       "  'id': 10047196,\n",
       "  'price': '474555.05',\n",
       "  'quantity': '0.03012',\n",
       "  'taker_side': 'sell'},\n",
       " 10047197: {'created_at': 1503730294,\n",
       "  'id': 10047197,\n",
       "  'price': '474533.72',\n",
       "  'quantity': '0.00988',\n",
       "  'taker_side': 'sell'},\n",
       " 10047198: {'created_at': 1503730346,\n",
       "  'id': 10047198,\n",
       "  'price': '474744.90532',\n",
       "  'quantity': '0.5114',\n",
       "  'taker_side': 'buy'}}"
      ]
     },
     "execution_count": 17,
     "metadata": {},
     "output_type": "execute_result"
    }
   ],
   "source": [
    "trade_dict"
   ]
  },
  {
   "cell_type": "code",
   "execution_count": 18,
   "metadata": {
    "collapsed": false
   },
   "outputs": [],
   "source": [
    "dictlist = []\n",
    "for key, value in trade_dict.items():\n",
    "    dictlist.append(value)"
   ]
  },
  {
   "cell_type": "code",
   "execution_count": 22,
   "metadata": {
    "collapsed": false
   },
   "outputs": [
    {
     "data": {
      "text/plain": [
       "[{'created_at': 1503729876,\n",
       "  'id': 10047179,\n",
       "  'price': '474126.95',\n",
       "  'quantity': '0.1',\n",
       "  'taker_side': 'buy'},\n",
       " {'created_at': 1503729908,\n",
       "  'id': 10047180,\n",
       "  'price': '474126.96',\n",
       "  'quantity': '0.05786',\n",
       "  'taker_side': 'buy'},\n",
       " {'created_at': 1503729908,\n",
       "  'id': 10047181,\n",
       "  'price': '474126.96',\n",
       "  'quantity': '0.04214',\n",
       "  'taker_side': 'buy'},\n",
       " {'created_at': 1503729938,\n",
       "  'id': 10047182,\n",
       "  'price': '474126.96',\n",
       "  'quantity': '0.05786',\n",
       "  'taker_side': 'buy'},\n",
       " {'created_at': 1503729938,\n",
       "  'id': 10047183,\n",
       "  'price': '474368.91',\n",
       "  'quantity': '0.042',\n",
       "  'taker_side': 'buy'},\n",
       " {'created_at': 1503729972,\n",
       "  'id': 10047184,\n",
       "  'price': '474175.54414',\n",
       "  'quantity': '0.4966',\n",
       "  'taker_side': 'sell'},\n",
       " {'created_at': 1503730060,\n",
       "  'id': 10047185,\n",
       "  'price': '474368.92',\n",
       "  'quantity': '0.1',\n",
       "  'taker_side': 'buy'},\n",
       " {'created_at': 1503730066,\n",
       "  'id': 10047186,\n",
       "  'price': '474365.31906',\n",
       "  'quantity': '0.4964',\n",
       "  'taker_side': 'buy'},\n",
       " {'created_at': 1503730154,\n",
       "  'id': 10047187,\n",
       "  'price': '474175.54414',\n",
       "  'quantity': '0.509',\n",
       "  'taker_side': 'sell'},\n",
       " {'created_at': 1503730178,\n",
       "  'id': 10047188,\n",
       "  'price': '474365.33116',\n",
       "  'quantity': '0.34',\n",
       "  'taker_side': 'buy'},\n",
       " {'created_at': 1503730246,\n",
       "  'id': 10047189,\n",
       "  'price': '474365.33',\n",
       "  'quantity': '0.1',\n",
       "  'taker_side': 'sell'},\n",
       " {'created_at': 1503730248,\n",
       "  'id': 10047190,\n",
       "  'price': '474175.54414',\n",
       "  'quantity': '0.04',\n",
       "  'taker_side': 'sell'},\n",
       " {'created_at': 1503730265,\n",
       "  'id': 10047191,\n",
       "  'price': '474365.33',\n",
       "  'quantity': '0.04',\n",
       "  'taker_side': 'buy'},\n",
       " {'created_at': 1503730286,\n",
       "  'id': 10047192,\n",
       "  'price': '474365.33',\n",
       "  'quantity': '0.06',\n",
       "  'taker_side': 'buy'},\n",
       " {'created_at': 1503730288,\n",
       "  'id': 10047193,\n",
       "  'price': '474555.05',\n",
       "  'quantity': '0.04',\n",
       "  'taker_side': 'sell'},\n",
       " {'created_at': 1503730288,\n",
       "  'id': 10047194,\n",
       "  'price': '474533.70926',\n",
       "  'quantity': '0.49012',\n",
       "  'taker_side': 'sell'},\n",
       " {'created_at': 1503730292,\n",
       "  'id': 10047195,\n",
       "  'price': '474555.05',\n",
       "  'quantity': '0.06988',\n",
       "  'taker_side': 'sell'},\n",
       " {'created_at': 1503730294,\n",
       "  'id': 10047196,\n",
       "  'price': '474555.05',\n",
       "  'quantity': '0.03012',\n",
       "  'taker_side': 'sell'},\n",
       " {'created_at': 1503730294,\n",
       "  'id': 10047197,\n",
       "  'price': '474533.72',\n",
       "  'quantity': '0.00988',\n",
       "  'taker_side': 'sell'},\n",
       " {'created_at': 1503730346,\n",
       "  'id': 10047198,\n",
       "  'price': '474744.90532',\n",
       "  'quantity': '0.5114',\n",
       "  'taker_side': 'buy'},\n",
       " {'created_at': 1503730346,\n",
       "  'id': 10047198,\n",
       "  'price': '474744.90532',\n",
       "  'quantity': '0.5114',\n",
       "  'taker_side': 'buy'},\n",
       " {'created_at': 1503730346,\n",
       "  'id': 10047198,\n",
       "  'price': '474744.90532',\n",
       "  'quantity': '0.5114',\n",
       "  'taker_side': 'buy'}]"
      ]
     },
     "execution_count": 22,
     "metadata": {},
     "output_type": "execute_result"
    }
   ],
   "source": [
    "dictlist"
   ]
  },
  {
   "cell_type": "code",
   "execution_count": 23,
   "metadata": {
    "collapsed": false
   },
   "outputs": [
    {
     "name": "stderr",
     "output_type": "stream",
     "text": [
      "/Users/take/.pyenv/versions/anaconda3-4.1.0/lib/python3.5/site-packages/ipykernel/__main__.py:7: FutureWarning: convert_objects is deprecated.  Use the data-type specific converters pd.to_datetime, pd.to_timedelta and pd.to_numeric.\n"
     ]
    }
   ],
   "source": [
    "trade_list = []\n",
    "for key, trade in trade_dict.items():\n",
    "    trade_list.append([\"quoine\",trade[\"id\"],trade[\"created_at\"],trade[\"quantity\"],trade[\"taker_side\"],trade[\"price\"]])\n",
    "df_trade=pd.DataFrame(trade_list)\n",
    "df_trade.columns=[\"quoine\",\"id\",\"created_at\",\"amount\",\"order_type\",\"rate\"]\n",
    "df_trade[\"created_at\"]=pd.to_datetime(df_trade[\"created_at\"])\n",
    "df_trade[\"amount\"]=df_trade[\"amount\"].convert_objects(convert_numeric=True)\n",
    "\n",
    "df_trade.index=df_trade[\"created_at\"]\n",
    "df_trade=df_trade.sort_values('created_at')\n",
    "df_trade_amount=df_trade[[\"amount\"]]"
   ]
  },
  {
   "cell_type": "code",
   "execution_count": 24,
   "metadata": {
    "collapsed": false
   },
   "outputs": [
    {
     "data": {
      "text/html": [
       "<div>\n",
       "<table border=\"1\" class=\"dataframe\">\n",
       "  <thead>\n",
       "    <tr style=\"text-align: right;\">\n",
       "      <th></th>\n",
       "      <th>quoine</th>\n",
       "      <th>id</th>\n",
       "      <th>created_at</th>\n",
       "      <th>amount</th>\n",
       "      <th>order_type</th>\n",
       "      <th>rate</th>\n",
       "    </tr>\n",
       "    <tr>\n",
       "      <th>created_at</th>\n",
       "      <th></th>\n",
       "      <th></th>\n",
       "      <th></th>\n",
       "      <th></th>\n",
       "      <th></th>\n",
       "      <th></th>\n",
       "    </tr>\n",
       "  </thead>\n",
       "  <tbody>\n",
       "    <tr>\n",
       "      <th>1970-01-01 00:00:01.503729876</th>\n",
       "      <td>quoine</td>\n",
       "      <td>10047179</td>\n",
       "      <td>1970-01-01 00:00:01.503729876</td>\n",
       "      <td>0.10000</td>\n",
       "      <td>buy</td>\n",
       "      <td>474126.95</td>\n",
       "    </tr>\n",
       "    <tr>\n",
       "      <th>1970-01-01 00:00:01.503729908</th>\n",
       "      <td>quoine</td>\n",
       "      <td>10047180</td>\n",
       "      <td>1970-01-01 00:00:01.503729908</td>\n",
       "      <td>0.05786</td>\n",
       "      <td>buy</td>\n",
       "      <td>474126.96</td>\n",
       "    </tr>\n",
       "    <tr>\n",
       "      <th>1970-01-01 00:00:01.503729908</th>\n",
       "      <td>quoine</td>\n",
       "      <td>10047181</td>\n",
       "      <td>1970-01-01 00:00:01.503729908</td>\n",
       "      <td>0.04214</td>\n",
       "      <td>buy</td>\n",
       "      <td>474126.96</td>\n",
       "    </tr>\n",
       "    <tr>\n",
       "      <th>1970-01-01 00:00:01.503729938</th>\n",
       "      <td>quoine</td>\n",
       "      <td>10047182</td>\n",
       "      <td>1970-01-01 00:00:01.503729938</td>\n",
       "      <td>0.05786</td>\n",
       "      <td>buy</td>\n",
       "      <td>474126.96</td>\n",
       "    </tr>\n",
       "    <tr>\n",
       "      <th>1970-01-01 00:00:01.503729938</th>\n",
       "      <td>quoine</td>\n",
       "      <td>10047183</td>\n",
       "      <td>1970-01-01 00:00:01.503729938</td>\n",
       "      <td>0.04200</td>\n",
       "      <td>buy</td>\n",
       "      <td>474368.91</td>\n",
       "    </tr>\n",
       "  </tbody>\n",
       "</table>\n",
       "</div>"
      ],
      "text/plain": [
       "                               quoine        id                    created_at  \\\n",
       "created_at                                                                      \n",
       "1970-01-01 00:00:01.503729876  quoine  10047179 1970-01-01 00:00:01.503729876   \n",
       "1970-01-01 00:00:01.503729908  quoine  10047180 1970-01-01 00:00:01.503729908   \n",
       "1970-01-01 00:00:01.503729908  quoine  10047181 1970-01-01 00:00:01.503729908   \n",
       "1970-01-01 00:00:01.503729938  quoine  10047182 1970-01-01 00:00:01.503729938   \n",
       "1970-01-01 00:00:01.503729938  quoine  10047183 1970-01-01 00:00:01.503729938   \n",
       "\n",
       "                                amount order_type       rate  \n",
       "created_at                                                    \n",
       "1970-01-01 00:00:01.503729876  0.10000        buy  474126.95  \n",
       "1970-01-01 00:00:01.503729908  0.05786        buy  474126.96  \n",
       "1970-01-01 00:00:01.503729908  0.04214        buy  474126.96  \n",
       "1970-01-01 00:00:01.503729938  0.05786        buy  474126.96  \n",
       "1970-01-01 00:00:01.503729938  0.04200        buy  474368.91  "
      ]
     },
     "execution_count": 24,
     "metadata": {},
     "output_type": "execute_result"
    }
   ],
   "source": [
    "df_trade.head()"
   ]
  },
  {
   "cell_type": "code",
   "execution_count": null,
   "metadata": {
    "collapsed": false
   },
   "outputs": [],
   "source": []
  },
  {
   "cell_type": "code",
   "execution_count": 26,
   "metadata": {
    "collapsed": false
   },
   "outputs": [
    {
     "data": {
      "text/html": [
       "<div>\n",
       "<table border=\"1\" class=\"dataframe\">\n",
       "  <thead>\n",
       "    <tr style=\"text-align: right;\">\n",
       "      <th></th>\n",
       "      <th>amount</th>\n",
       "    </tr>\n",
       "    <tr>\n",
       "      <th>created_at</th>\n",
       "      <th></th>\n",
       "    </tr>\n",
       "  </thead>\n",
       "  <tbody>\n",
       "  </tbody>\n",
       "</table>\n",
       "</div>"
      ],
      "text/plain": [
       "Empty DataFrame\n",
       "Columns: [amount]\n",
       "Index: []"
      ]
     },
     "execution_count": 26,
     "metadata": {},
     "output_type": "execute_result"
    }
   ],
   "source": [
    "df_summary = df_trade_amount.groupby(pd.TimeGrouper(freq=\"min\")).aggregate(np.sum)[1:]\n",
    "df_summary.head()"
   ]
  },
  {
   "cell_type": "code",
   "execution_count": 31,
   "metadata": {
    "collapsed": false
   },
   "outputs": [
    {
     "ename": "AttributeError",
     "evalue": "'FigureCanvasAgg' object has no attribute 'invalidate'",
     "output_type": "error",
     "traceback": [
      "\u001b[0;31m---------------------------------------------------------------------------\u001b[0m",
      "\u001b[0;31mAttributeError\u001b[0m                            Traceback (most recent call last)",
      "\u001b[0;32m<ipython-input-31-d4f620556fd5>\u001b[0m in \u001b[0;36m<module>\u001b[0;34m()\u001b[0m\n\u001b[0;32m----> 1\u001b[0;31m \u001b[0mdf_summary\u001b[0m\u001b[0;34m[\u001b[0m\u001b[0;34m'amount'\u001b[0m\u001b[0;34m]\u001b[0m\u001b[0;34m.\u001b[0m\u001b[0mplot\u001b[0m\u001b[0;34m(\u001b[0m\u001b[0;34m)\u001b[0m\u001b[0;34m\u001b[0m\u001b[0m\n\u001b[0m",
      "\u001b[0;32m/Users/take/.pyenv/versions/anaconda3-4.1.0/lib/python3.5/site-packages/pandas/tools/plotting.py\u001b[0m in \u001b[0;36m__call__\u001b[0;34m(self, kind, ax, figsize, use_index, title, grid, legend, style, logx, logy, loglog, xticks, yticks, xlim, ylim, rot, fontsize, colormap, table, yerr, xerr, label, secondary_y, **kwds)\u001b[0m\n\u001b[1;32m   3598\u001b[0m                            \u001b[0mcolormap\u001b[0m\u001b[0;34m=\u001b[0m\u001b[0mcolormap\u001b[0m\u001b[0;34m,\u001b[0m \u001b[0mtable\u001b[0m\u001b[0;34m=\u001b[0m\u001b[0mtable\u001b[0m\u001b[0;34m,\u001b[0m \u001b[0myerr\u001b[0m\u001b[0;34m=\u001b[0m\u001b[0myerr\u001b[0m\u001b[0;34m,\u001b[0m\u001b[0;34m\u001b[0m\u001b[0m\n\u001b[1;32m   3599\u001b[0m                            \u001b[0mxerr\u001b[0m\u001b[0;34m=\u001b[0m\u001b[0mxerr\u001b[0m\u001b[0;34m,\u001b[0m \u001b[0mlabel\u001b[0m\u001b[0;34m=\u001b[0m\u001b[0mlabel\u001b[0m\u001b[0;34m,\u001b[0m \u001b[0msecondary_y\u001b[0m\u001b[0;34m=\u001b[0m\u001b[0msecondary_y\u001b[0m\u001b[0;34m,\u001b[0m\u001b[0;34m\u001b[0m\u001b[0m\n\u001b[0;32m-> 3600\u001b[0;31m                            **kwds)\n\u001b[0m\u001b[1;32m   3601\u001b[0m     \u001b[0m__call__\u001b[0m\u001b[0;34m.\u001b[0m\u001b[0m__doc__\u001b[0m \u001b[0;34m=\u001b[0m \u001b[0mplot_series\u001b[0m\u001b[0;34m.\u001b[0m\u001b[0m__doc__\u001b[0m\u001b[0;34m\u001b[0m\u001b[0m\n\u001b[1;32m   3602\u001b[0m \u001b[0;34m\u001b[0m\u001b[0m\n",
      "\u001b[0;32m/Users/take/.pyenv/versions/anaconda3-4.1.0/lib/python3.5/site-packages/pandas/tools/plotting.py\u001b[0m in \u001b[0;36mplot_series\u001b[0;34m(data, kind, ax, figsize, use_index, title, grid, legend, style, logx, logy, loglog, xticks, yticks, xlim, ylim, rot, fontsize, colormap, table, yerr, xerr, label, secondary_y, **kwds)\u001b[0m\n\u001b[1;32m   2672\u001b[0m                  \u001b[0myerr\u001b[0m\u001b[0;34m=\u001b[0m\u001b[0myerr\u001b[0m\u001b[0;34m,\u001b[0m \u001b[0mxerr\u001b[0m\u001b[0;34m=\u001b[0m\u001b[0mxerr\u001b[0m\u001b[0;34m,\u001b[0m\u001b[0;34m\u001b[0m\u001b[0m\n\u001b[1;32m   2673\u001b[0m                  \u001b[0mlabel\u001b[0m\u001b[0;34m=\u001b[0m\u001b[0mlabel\u001b[0m\u001b[0;34m,\u001b[0m \u001b[0msecondary_y\u001b[0m\u001b[0;34m=\u001b[0m\u001b[0msecondary_y\u001b[0m\u001b[0;34m,\u001b[0m\u001b[0;34m\u001b[0m\u001b[0m\n\u001b[0;32m-> 2674\u001b[0;31m                  **kwds)\n\u001b[0m\u001b[1;32m   2675\u001b[0m \u001b[0;34m\u001b[0m\u001b[0m\n\u001b[1;32m   2676\u001b[0m \u001b[0;34m\u001b[0m\u001b[0m\n",
      "\u001b[0;32m/Users/take/.pyenv/versions/anaconda3-4.1.0/lib/python3.5/site-packages/pandas/tools/plotting.py\u001b[0m in \u001b[0;36m_plot\u001b[0;34m(data, x, y, subplots, ax, kind, **kwds)\u001b[0m\n\u001b[1;32m   2468\u001b[0m         \u001b[0mplot_obj\u001b[0m \u001b[0;34m=\u001b[0m \u001b[0mklass\u001b[0m\u001b[0;34m(\u001b[0m\u001b[0mdata\u001b[0m\u001b[0;34m,\u001b[0m \u001b[0msubplots\u001b[0m\u001b[0;34m=\u001b[0m\u001b[0msubplots\u001b[0m\u001b[0;34m,\u001b[0m \u001b[0max\u001b[0m\u001b[0;34m=\u001b[0m\u001b[0max\u001b[0m\u001b[0;34m,\u001b[0m \u001b[0mkind\u001b[0m\u001b[0;34m=\u001b[0m\u001b[0mkind\u001b[0m\u001b[0;34m,\u001b[0m \u001b[0;34m**\u001b[0m\u001b[0mkwds\u001b[0m\u001b[0;34m)\u001b[0m\u001b[0;34m\u001b[0m\u001b[0m\n\u001b[1;32m   2469\u001b[0m \u001b[0;34m\u001b[0m\u001b[0m\n\u001b[0;32m-> 2470\u001b[0;31m     \u001b[0mplot_obj\u001b[0m\u001b[0;34m.\u001b[0m\u001b[0mgenerate\u001b[0m\u001b[0;34m(\u001b[0m\u001b[0;34m)\u001b[0m\u001b[0;34m\u001b[0m\u001b[0m\n\u001b[0m\u001b[1;32m   2471\u001b[0m     \u001b[0mplot_obj\u001b[0m\u001b[0;34m.\u001b[0m\u001b[0mdraw\u001b[0m\u001b[0;34m(\u001b[0m\u001b[0;34m)\u001b[0m\u001b[0;34m\u001b[0m\u001b[0m\n\u001b[1;32m   2472\u001b[0m     \u001b[0;32mreturn\u001b[0m \u001b[0mplot_obj\u001b[0m\u001b[0;34m.\u001b[0m\u001b[0mresult\u001b[0m\u001b[0;34m\u001b[0m\u001b[0m\n",
      "\u001b[0;32m/Users/take/.pyenv/versions/anaconda3-4.1.0/lib/python3.5/site-packages/pandas/tools/plotting.py\u001b[0m in \u001b[0;36mgenerate\u001b[0;34m(self)\u001b[0m\n\u001b[1;32m   1041\u001b[0m         \u001b[0mself\u001b[0m\u001b[0;34m.\u001b[0m\u001b[0m_compute_plot_data\u001b[0m\u001b[0;34m(\u001b[0m\u001b[0;34m)\u001b[0m\u001b[0;34m\u001b[0m\u001b[0m\n\u001b[1;32m   1042\u001b[0m         \u001b[0mself\u001b[0m\u001b[0;34m.\u001b[0m\u001b[0m_setup_subplots\u001b[0m\u001b[0;34m(\u001b[0m\u001b[0;34m)\u001b[0m\u001b[0;34m\u001b[0m\u001b[0m\n\u001b[0;32m-> 1043\u001b[0;31m         \u001b[0mself\u001b[0m\u001b[0;34m.\u001b[0m\u001b[0m_make_plot\u001b[0m\u001b[0;34m(\u001b[0m\u001b[0;34m)\u001b[0m\u001b[0;34m\u001b[0m\u001b[0m\n\u001b[0m\u001b[1;32m   1044\u001b[0m         \u001b[0mself\u001b[0m\u001b[0;34m.\u001b[0m\u001b[0m_add_table\u001b[0m\u001b[0;34m(\u001b[0m\u001b[0;34m)\u001b[0m\u001b[0;34m\u001b[0m\u001b[0m\n\u001b[1;32m   1045\u001b[0m         \u001b[0mself\u001b[0m\u001b[0;34m.\u001b[0m\u001b[0m_make_legend\u001b[0m\u001b[0;34m(\u001b[0m\u001b[0;34m)\u001b[0m\u001b[0;34m\u001b[0m\u001b[0m\n",
      "\u001b[0;32m/Users/take/.pyenv/versions/anaconda3-4.1.0/lib/python3.5/site-packages/pandas/tools/plotting.py\u001b[0m in \u001b[0;36m_make_plot\u001b[0;34m(self)\u001b[0m\n\u001b[1;32m   1724\u001b[0m                              \u001b[0mstacking_id\u001b[0m\u001b[0;34m=\u001b[0m\u001b[0mstacking_id\u001b[0m\u001b[0;34m,\u001b[0m\u001b[0;34m\u001b[0m\u001b[0m\n\u001b[1;32m   1725\u001b[0m                              \u001b[0mis_errorbar\u001b[0m\u001b[0;34m=\u001b[0m\u001b[0mis_errorbar\u001b[0m\u001b[0;34m,\u001b[0m\u001b[0;34m\u001b[0m\u001b[0m\n\u001b[0;32m-> 1726\u001b[0;31m                              **kwds)\n\u001b[0m\u001b[1;32m   1727\u001b[0m             \u001b[0mself\u001b[0m\u001b[0;34m.\u001b[0m\u001b[0m_add_legend_handle\u001b[0m\u001b[0;34m(\u001b[0m\u001b[0mnewlines\u001b[0m\u001b[0;34m[\u001b[0m\u001b[0;36m0\u001b[0m\u001b[0;34m]\u001b[0m\u001b[0;34m,\u001b[0m \u001b[0mlabel\u001b[0m\u001b[0;34m,\u001b[0m \u001b[0mindex\u001b[0m\u001b[0;34m=\u001b[0m\u001b[0mi\u001b[0m\u001b[0;34m)\u001b[0m\u001b[0;34m\u001b[0m\u001b[0m\n\u001b[1;32m   1728\u001b[0m \u001b[0;34m\u001b[0m\u001b[0m\n",
      "\u001b[0;32m/Users/take/.pyenv/versions/anaconda3-4.1.0/lib/python3.5/site-packages/pandas/tools/plotting.py\u001b[0m in \u001b[0;36m_ts_plot\u001b[0;34m(cls, ax, x, data, style, **kwds)\u001b[0m\n\u001b[1;32m   1764\u001b[0m         \u001b[0mlines\u001b[0m \u001b[0;34m=\u001b[0m \u001b[0mcls\u001b[0m\u001b[0;34m.\u001b[0m\u001b[0m_plot\u001b[0m\u001b[0;34m(\u001b[0m\u001b[0max\u001b[0m\u001b[0;34m,\u001b[0m \u001b[0mdata\u001b[0m\u001b[0;34m.\u001b[0m\u001b[0mindex\u001b[0m\u001b[0;34m,\u001b[0m \u001b[0mdata\u001b[0m\u001b[0;34m.\u001b[0m\u001b[0mvalues\u001b[0m\u001b[0;34m,\u001b[0m \u001b[0mstyle\u001b[0m\u001b[0;34m=\u001b[0m\u001b[0mstyle\u001b[0m\u001b[0;34m,\u001b[0m \u001b[0;34m**\u001b[0m\u001b[0mkwds\u001b[0m\u001b[0;34m)\u001b[0m\u001b[0;34m\u001b[0m\u001b[0m\n\u001b[1;32m   1765\u001b[0m         \u001b[0;31m# set date formatter, locators and rescale limits\u001b[0m\u001b[0;34m\u001b[0m\u001b[0;34m\u001b[0m\u001b[0m\n\u001b[0;32m-> 1766\u001b[0;31m         \u001b[0mformat_dateaxis\u001b[0m\u001b[0;34m(\u001b[0m\u001b[0max\u001b[0m\u001b[0;34m,\u001b[0m \u001b[0max\u001b[0m\u001b[0;34m.\u001b[0m\u001b[0mfreq\u001b[0m\u001b[0;34m)\u001b[0m\u001b[0;34m\u001b[0m\u001b[0m\n\u001b[0m\u001b[1;32m   1767\u001b[0m         \u001b[0;32mreturn\u001b[0m \u001b[0mlines\u001b[0m\u001b[0;34m\u001b[0m\u001b[0m\n\u001b[1;32m   1768\u001b[0m \u001b[0;34m\u001b[0m\u001b[0m\n",
      "\u001b[0;32m/Users/take/.pyenv/versions/anaconda3-4.1.0/lib/python3.5/site-packages/pandas/tseries/plotting.py\u001b[0m in \u001b[0;36mformat_dateaxis\u001b[0;34m(subplot, freq)\u001b[0m\n\u001b[1;32m    311\u001b[0m         \"t = {0}  y = {1:8f}\".format(Period(ordinal=int(t), freq=freq), y))\n\u001b[1;32m    312\u001b[0m \u001b[0;34m\u001b[0m\u001b[0m\n\u001b[0;32m--> 313\u001b[0;31m     \u001b[0mpylab\u001b[0m\u001b[0;34m.\u001b[0m\u001b[0mdraw_if_interactive\u001b[0m\u001b[0;34m(\u001b[0m\u001b[0;34m)\u001b[0m\u001b[0;34m\u001b[0m\u001b[0m\n\u001b[0m",
      "\u001b[0;32m/Users/take/.pyenv/versions/anaconda3-4.1.0/lib/python3.5/site-packages/IPython/utils/decorators.py\u001b[0m in \u001b[0;36mwrapper\u001b[0;34m(*args, **kw)\u001b[0m\n\u001b[1;32m     41\u001b[0m     \u001b[0;32mdef\u001b[0m \u001b[0mwrapper\u001b[0m\u001b[0;34m(\u001b[0m\u001b[0;34m*\u001b[0m\u001b[0margs\u001b[0m\u001b[0;34m,\u001b[0m\u001b[0;34m**\u001b[0m\u001b[0mkw\u001b[0m\u001b[0;34m)\u001b[0m\u001b[0;34m:\u001b[0m\u001b[0;34m\u001b[0m\u001b[0m\n\u001b[1;32m     42\u001b[0m         \u001b[0mwrapper\u001b[0m\u001b[0;34m.\u001b[0m\u001b[0mcalled\u001b[0m \u001b[0;34m=\u001b[0m \u001b[0;32mFalse\u001b[0m\u001b[0;34m\u001b[0m\u001b[0m\n\u001b[0;32m---> 43\u001b[0;31m         \u001b[0mout\u001b[0m \u001b[0;34m=\u001b[0m \u001b[0mfunc\u001b[0m\u001b[0;34m(\u001b[0m\u001b[0;34m*\u001b[0m\u001b[0margs\u001b[0m\u001b[0;34m,\u001b[0m\u001b[0;34m**\u001b[0m\u001b[0mkw\u001b[0m\u001b[0;34m)\u001b[0m\u001b[0;34m\u001b[0m\u001b[0m\n\u001b[0m\u001b[1;32m     44\u001b[0m         \u001b[0mwrapper\u001b[0m\u001b[0;34m.\u001b[0m\u001b[0mcalled\u001b[0m \u001b[0;34m=\u001b[0m \u001b[0;32mTrue\u001b[0m\u001b[0;34m\u001b[0m\u001b[0m\n\u001b[1;32m     45\u001b[0m         \u001b[0;32mreturn\u001b[0m \u001b[0mout\u001b[0m\u001b[0;34m\u001b[0m\u001b[0m\n",
      "\u001b[0;32m/Users/take/.pyenv/versions/anaconda3-4.1.0/lib/python3.5/site-packages/matplotlib/backends/backend_macosx.py\u001b[0m in \u001b[0;36mdraw_if_interactive\u001b[0;34m()\u001b[0m\n\u001b[1;32m     46\u001b[0m         \u001b[0mfigManager\u001b[0m \u001b[0;34m=\u001b[0m  \u001b[0mGcf\u001b[0m\u001b[0;34m.\u001b[0m\u001b[0mget_active\u001b[0m\u001b[0;34m(\u001b[0m\u001b[0;34m)\u001b[0m\u001b[0;34m\u001b[0m\u001b[0m\n\u001b[1;32m     47\u001b[0m         \u001b[0;32mif\u001b[0m \u001b[0mfigManager\u001b[0m \u001b[0;32mis\u001b[0m \u001b[0;32mnot\u001b[0m \u001b[0;32mNone\u001b[0m\u001b[0;34m:\u001b[0m\u001b[0;34m\u001b[0m\u001b[0m\n\u001b[0;32m---> 48\u001b[0;31m             \u001b[0mfigManager\u001b[0m\u001b[0;34m.\u001b[0m\u001b[0mcanvas\u001b[0m\u001b[0;34m.\u001b[0m\u001b[0minvalidate\u001b[0m\u001b[0;34m(\u001b[0m\u001b[0;34m)\u001b[0m\u001b[0;34m\u001b[0m\u001b[0m\n\u001b[0m\u001b[1;32m     49\u001b[0m \u001b[0;34m\u001b[0m\u001b[0m\n\u001b[1;32m     50\u001b[0m \u001b[0;34m\u001b[0m\u001b[0m\n",
      "\u001b[0;31mAttributeError\u001b[0m: 'FigureCanvasAgg' object has no attribute 'invalidate'"
     ]
    },
    {
     "data": {
      "image/png": "[encoded data removed]",
      "text/plain": [
       "<matplotlib.figure.Figure at 0x118d71e80>"
      ]
     },
     "metadata": {},
     "output_type": "display_data"
    }
   ],
   "source": [
    "df_summary['amount'].plot()"
   ]
  },
  {
   "cell_type": "code",
   "execution_count": null,
   "metadata": {
    "collapsed": true
   },
   "outputs": [],
   "source": []
  },
  {
   "cell_type": "code",
   "execution_count": 3,
   "metadata": {
    "collapsed": false
   },
   "outputs": [
    {
     "name": "stdout",
     "output_type": "stream",
     "text": [
      "hitbtc <coroutine object Exchange.load_markets at 0x104ae67d8>\n",
      "bitmex <coroutine object Exchange.load_markets at 0x104ae6830>\n",
      "huobi <coroutine object Exchange.load_markets at 0x1044117d8>\n"
     ]
    },
    {
     "name": "stderr",
     "output_type": "stream",
     "text": [
      "/Users/take/.pyenv/versions/anaconda3-4.1.0/lib/python3.5/site-packages/ipykernel/__main__.py:12: RuntimeWarning: coroutine 'Exchange.load_markets' was never awaited\n",
      "/Users/take/.pyenv/versions/anaconda3-4.1.0/lib/python3.5/site-packages/ipykernel/__main__.py:13: RuntimeWarning: coroutine 'Exchange.load_markets' was never awaited\n"
     ]
    },
    {
     "ename": "TypeError",
     "evalue": "'NoneType' object is not subscriptable",
     "output_type": "error",
     "traceback": [
      "\u001b[0;31m---------------------------------------------------------------------------\u001b[0m",
      "\u001b[0;31mTypeError\u001b[0m                                 Traceback (most recent call last)",
      "\u001b[0;32m<ipython-input-3-6418ba0a60b6>\u001b[0m in \u001b[0;36m<module>\u001b[0;34m()\u001b[0m\n\u001b[1;32m     13\u001b[0m \u001b[0mprint\u001b[0m\u001b[0;34m(\u001b[0m\u001b[0mhuobi\u001b[0m\u001b[0;34m.\u001b[0m\u001b[0mid\u001b[0m\u001b[0;34m,\u001b[0m \u001b[0mhuobi\u001b[0m\u001b[0;34m.\u001b[0m\u001b[0mload_markets\u001b[0m\u001b[0;34m(\u001b[0m\u001b[0;34m)\u001b[0m\u001b[0;34m)\u001b[0m\u001b[0;34m\u001b[0m\u001b[0m\n\u001b[1;32m     14\u001b[0m \u001b[0;34m\u001b[0m\u001b[0m\n\u001b[0;32m---> 15\u001b[0;31m \u001b[0mprint\u001b[0m\u001b[0;34m(\u001b[0m\u001b[0mhitbtc\u001b[0m\u001b[0;34m.\u001b[0m\u001b[0mfetch_order_book\u001b[0m\u001b[0;34m(\u001b[0m\u001b[0mhitbtc\u001b[0m\u001b[0;34m.\u001b[0m\u001b[0msymbols\u001b[0m\u001b[0;34m[\u001b[0m\u001b[0;36m0\u001b[0m\u001b[0;34m]\u001b[0m\u001b[0;34m)\u001b[0m\u001b[0;34m)\u001b[0m\u001b[0;34m\u001b[0m\u001b[0m\n\u001b[0m\u001b[1;32m     16\u001b[0m \u001b[0mprint\u001b[0m\u001b[0;34m(\u001b[0m\u001b[0mbitmex\u001b[0m\u001b[0;34m.\u001b[0m\u001b[0mfetch_ticker\u001b[0m\u001b[0;34m(\u001b[0m\u001b[0;34m'BTC/USD'\u001b[0m\u001b[0;34m)\u001b[0m\u001b[0;34m)\u001b[0m\u001b[0;34m\u001b[0m\u001b[0m\n\u001b[1;32m     17\u001b[0m \u001b[0mprint\u001b[0m\u001b[0;34m(\u001b[0m\u001b[0mhuobi\u001b[0m\u001b[0;34m.\u001b[0m\u001b[0mfetch_trades\u001b[0m\u001b[0;34m(\u001b[0m\u001b[0;34m'LTC/CNY'\u001b[0m\u001b[0;34m)\u001b[0m\u001b[0;34m)\u001b[0m\u001b[0;34m\u001b[0m\u001b[0m\n",
      "\u001b[0;31mTypeError\u001b[0m: 'NoneType' object is not subscriptable"
     ]
    }
   ],
   "source": [
    "print(hitbtc.id, hitbtc_markets)\n",
    "print(bitmex.id, bitmex.load_markets())\n",
    "print(huobi.id, huobi.load_markets())\n",
    "\n",
    "print(hitbtc.fetch_order_book(hitbtc.symbols[0]))\n",
    "print(bitmex.fetch_ticker('BTC/USD'))\n",
    "print(huobi.fetch_trades('LTC/CNY'))\n",
    "\n",
    "print(exmo.fetch_balance())\n",
    "\n",
    "# sell one BTC/USD for market price and receive $ right now\n",
    "print(exmo.id, exmo.create_market_sell_order('BTC/USD', 1))\n",
    "\n",
    "# limit buy BTC/EUR, you pay €2500 and receive 1 BTC when the order is closed\n",
    "print(exmo.id, exmo.create_limit_buy_order('BTC/EUR', 1, 2500.00))\n",
    "\n",
    "# pass/redefine custom exchange-specific order params: type, amount, price, flags, etc...\n",
    "kraken.create_market_buy_order('BTC/USD', 1, {'trading_agreement': 'agree'})\n"
   ]
  },
  {
   "cell_type": "code",
   "execution_count": null,
   "metadata": {
    "collapsed": true
   },
   "outputs": [],
   "source": []
  }
 ],
 "metadata": {
  "anaconda-cloud": {},
  "kernelspec": {
   "display_name": "Python [Root]",
   "language": "python",
   "name": "Python [Root]"
  },
  "language_info": {
   "codemirror_mode": {
    "name": "ipython",
    "version": 3
   },
   "file_extension": ".py",
   "mimetype": "text/x-python",
   "name": "python",
   "nbconvert_exporter": "python",
   "pygments_lexer": "ipython3",
   "version": "3.5.2"
  }
 },
 "nbformat": 4,
 "nbformat_minor": 0
}

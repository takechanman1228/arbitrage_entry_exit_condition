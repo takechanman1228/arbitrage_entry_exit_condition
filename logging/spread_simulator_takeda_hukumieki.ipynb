{
 "cells": [
  {
   "cell_type": "code",
   "execution_count": 4,
   "metadata": {
    "collapsed": false
   },
   "outputs": [],
   "source": [
    "import numpy as np\n",
    "import scipy as sp\n",
    "import pandas as pd\n",
    "%matplotlib inline\n",
    "import matplotlib.pyplot as plt\n",
    "# import seaborn as sns\n",
    "import pickle \n",
    "from datetime import datetime\n",
    "from os import walk\n",
    "%load_ext Cython\n",
    "import copy"
   ]
  },
  {
   "cell_type": "code",
   "execution_count": 5,
   "metadata": {
    "collapsed": true
   },
   "outputs": [],
   "source": [
    "import sys\n",
    "sys.path.append(\"..\")"
   ]
  },
  {
   "cell_type": "code",
   "execution_count": 6,
   "metadata": {
    "collapsed": true
   },
   "outputs": [],
   "source": [
    "import itertools\n",
    "import ccxt\n",
    "import enum\n",
    "\n",
    "class BidAsk(enum.Enum):\n",
    "    bid = 1\n",
    "    ask = 2\n",
    "class Order:\n",
    "    def __init__(self, bid_ask, price, size):\n",
    "        self.bid_ask = bid_ask\n",
    "        self.price = price\n",
    "        self.size = size\n",
    "        # 念のため\n",
    "        assert isinstance(bid_ask, BidAsk), \"bid_ask is not instance of BidAsk\"\n",
    "        assert isinstance(price, float), \"Price is not type of float\"\n",
    "        assert isinstance(size, float), \"Size is not type of float\"\n",
    "class OrderBook:\n",
    "    def __init__(self, exchange_id, bids, asks):\n",
    "        self.exchange_id = exchange_id\n",
    "        self.bids = bids\n",
    "        self.asks = asks\n",
    "\n",
    "    def best_ask(self):\n",
    "        return self.asks[0]\n",
    "\n",
    "    def best_bid(self):\n",
    "        return self.bids[0]\n",
    "class Position:\n",
    "    def __init__(self, exchange_id, position_id, price, size, hasShort=False):\n",
    "        self.exchange_id = exchange_id\n",
    "        self.position_id = position_id\n",
    "        self.price = price\n",
    "        self.size = size\n",
    "        self.hasShort = hasShort\n",
    "class CrossPositions:\n",
    "    def __init__(self, longPosition, shortPosition, spread, spreadTarget):\n",
    "        self.spreadTarget = spreadTarget\n",
    "        self.longPosition = longPosition\n",
    "        self.shortPosition = shortPosition\n",
    "        self.spread = spread\n",
    "\n",
    "HOUR = 3\n",
    "MAX_LENGTH = 60 * 60 * HOUR\n",
    "import functools\n",
    "# average_spread_dict = {}\n",
    "# spread_dict = {}\n",
    "profit = 0"
   ]
  },
  {
   "cell_type": "code",
   "execution_count": null,
   "metadata": {
    "collapsed": true
   },
   "outputs": [],
   "source": []
  },
  {
   "cell_type": "code",
   "execution_count": 7,
   "metadata": {
    "collapsed": true
   },
   "outputs": [],
   "source": [
    "def initExchangePairDict(array, init_value):\n",
    "    exchange_pairs = list(itertools.permutations(array, 2))\n",
    "    dict = {}\n",
    "    for pair in exchange_pairs:\n",
    "        key = pair[0] + '_' + pair[1]\n",
    "        init = copy.deepcopy(init_value)\n",
    "        dict[key] = init\n",
    "    return dict"
   ]
  },
  {
   "cell_type": "code",
   "execution_count": 8,
   "metadata": {
    "collapsed": false
   },
   "outputs": [],
   "source": [
    "df_prices = pd.read_csv(\"coincheck_zaif_bitflyer3.csv\")\n",
    "# spread 計算\n",
    "df_prices[\"coincheck_zaif\"] = df_prices[\"coincheck_bid\"] - df_prices[\"zaif_ask\"]\n",
    "df_prices[\"coincheck_bitflyer\"] = df_prices[\"coincheck_bid\"] - df_prices[\"bitflyer_ask\"]\n",
    "df_prices[\"zaif_coincheck\"] = df_prices[\"zaif_bid\"] - df_prices[\"coincheck_ask\"]\n",
    "df_prices[\"zaif_bitflyer\"] = df_prices[\"zaif_bid\"] - df_prices[\"bitflyer_ask\"]\n",
    "df_prices[\"bitflyer_coincheck\"] = df_prices[\"bitflyer_bid\"] - df_prices[\"coincheck_ask\"]\n",
    "df_prices[\"bitflyer_zaif\"] = df_prices[\"bitflyer_bid\"] - df_prices[\"zaif_ask\"]"
   ]
  },
  {
   "cell_type": "code",
   "execution_count": 9,
   "metadata": {
    "collapsed": false
   },
   "outputs": [
    {
     "data": {
      "text/plain": [
       "149704"
      ]
     },
     "execution_count": 9,
     "metadata": {},
     "output_type": "execute_result"
    }
   ],
   "source": [
    "len(df_prices)"
   ]
  },
  {
   "cell_type": "code",
   "execution_count": 10,
   "metadata": {
    "collapsed": false
   },
   "outputs": [],
   "source": [
    "simulation_summary = {}\n",
    "def simulation(entry_top_percent, exit_top_percent, N):\n",
    "    # N=100\n",
    "    # sigma = 2\n",
    "    profit = 0\n",
    "    entry_exit_log_list = []\n",
    "    entry_count = 0\n",
    "    exit_count = 0\n",
    "    # spread_keys=[\"coincheck_zaif\",\"coincheck_bitflyer\",\"zaif_coincheck\",\"zaif_bitflyer\",\"bitflyer_coincheck\",\"bitflyer_zaif\"]\n",
    "    position_size = 0.01\n",
    "    budget = 1000000 # 予算100万円\n",
    "    clients = [\n",
    "            ccxt.coincheck(),\n",
    "            ccxt.zaif(),\n",
    "            ccxt.bitflyer()\n",
    "    ]\n",
    "    exchanges = list(map(lambda ex: ex.id, clients))\n",
    "    spread_dict = initExchangePairDict(exchanges, [])\n",
    "    average_spread_dict = initExchangePairDict(exchanges, 0)\n",
    "    standard_deviation_spread_dict = initExchangePairDict(exchanges, 0)\n",
    "    myCrossPositions = initExchangePairDict(exchanges, [])\n",
    "\n",
    "    index_count = 130000\n",
    "    is_entry = [False] * index_count\n",
    "    spread_keys=[\"coincheck_bitflyer\",\"bitflyer_coincheck\"]\n",
    "    \n",
    "    for index, row in df_prices.head(index_count).iterrows():\n",
    "#         print(index)\n",
    "        for pair_key in spread_keys:\n",
    "#             print(index,pair_key)\n",
    "#             print(index, N)\n",
    "            if index>N:                \n",
    "                past_N_rows = df_prices[index-N:index][pair_key]\n",
    "                std = past_N_rows.std()\n",
    "                mean = past_N_rows.mean()\n",
    "\n",
    "                \n",
    "                entry_threshold = past_N_rows.nlargest(int(len(past_N_rows)*(entry_top_percent))).min()\n",
    "                exit_threshold = past_N_rows.nlargest(int(len(past_N_rows)*(exit_top_percent))).min()\n",
    "\n",
    "                short_ex, long_ex = pair_key.split(\"_\")\n",
    "                ask_price = long_ex + \"_ask\"\n",
    "                bid_price = short_ex + \"_bid\"\n",
    "                    \n",
    "                before_row = df_prices.iloc[index-1]\n",
    "                conditions = is_entry[index - 1] == True and (row[ask_price] == before_row[ask_price] or row[bid_price] == before_row[bid_price])    \n",
    "#                 print(\"before entry\")\n",
    "                if not conditions and row[pair_key] > 0 and row[pair_key] > entry_threshold:\n",
    "#                     print(\"entry\")\n",
    "#                     print(row[pair_key], top_threshold)\n",
    "                    is_entry[index] = True\n",
    "                    entry_count+=1\n",
    "\n",
    "                    longPosition = Position(long_ex, \"dummyid\", row[ask_price], position_size, False)\n",
    "                    shortPosition = Position(short_ex, \"dummyid\", row[bid_price], position_size, True)\n",
    "                    crossPosition = CrossPositions(longPosition, shortPosition, row[pair_key], exit_threshold) #meanはtarget spread\n",
    "                    my_posi_dict_key = long_ex + '_' + short_ex\n",
    "                    myCrossPositions[my_posi_dict_key].append(crossPosition)\n",
    "                    entry_exit_log_list.append([\n",
    "                        row.datetime,\n",
    "                        \"entry\" ,\n",
    "                        pair_key ,\n",
    "                        row[ask_price],\n",
    "                        row[bid_price],\n",
    "                        row[pair_key],\n",
    "                        0       \n",
    "                    ])\n",
    "                \n",
    "                if len(myCrossPositions[pair_key]) > 0 and abs(row[pair_key]) < myCrossPositions[pair_key][-1].spreadTarget:\n",
    "    #                   print(\"exit\")\n",
    "                    exit_count += 1\n",
    "                    entry_position = myCrossPositions[pair_key].pop()\n",
    "                    longProfit = (row[bid_price] - entry_position.longPosition.price) * position_size\n",
    "                    shortProfit = (entry_position.shortPosition.price - row[ask_price]) * position_size\n",
    "                    fee = entry_position.shortPosition.price * position_size * 0.0004\n",
    "                    profit +=  longProfit + shortProfit - fee\n",
    "\n",
    "                    entry_exit_log_list.append([\n",
    "                        row.datetime,\n",
    "                        \"exit\",\n",
    "                        pair_key ,\n",
    "                        row[ask_price],\n",
    "                        row[bid_price],\n",
    "                        row[pair_key],\n",
    "                        profit                 \n",
    "                    ])\n",
    "    print(profit)\n",
    "    remain_profit = 0 \n",
    "    # exitできていないものがあればその時の値段でexit\n",
    "    row_last = df_prices.iloc[index_count+1]\n",
    "    for pair_key in spread_keys:\n",
    "        short_ex, long_ex = pair_key.split(\"_\")\n",
    "        ask_price = long_ex + \"_ask\"\n",
    "        bid_price = short_ex + \"_bid\"\n",
    "        print(\"残り\",len(myCrossPositions[pair_key]))\n",
    "        if len(myCrossPositions[pair_key]) > 1:\n",
    "            for remainCrossPosition in myCrossPositions[pair_key]:\n",
    "                # entry数 - exit数\n",
    "                longProfit = (row_last[bid_price] - remainCrossPosition.longPosition.price) * position_size\n",
    "                shortProfit = (remainCrossPosition.shortPosition.price - row_last[ask_price]) * position_size\n",
    "#                 print(\"row_last[bid_price]:\",row_last[bid_price], \"remainCrossPosition.longPosition.price\", remainCrossPosition.longPosition.price)\n",
    "#                 print(\"row_last[ask_price]\",row_last[ask_price],\"remainCrossPosition.shortPosition.price\",remainCrossPosition.shortPosition.price)\n",
    "#                 print(longProfit, shortProfit, profit)\n",
    "                fee = remainCrossPosition.shortPosition.price * position_size * 0.0004\n",
    "                remain_profit += longProfit + shortProfit - fee\n",
    "\n",
    "                entry_exit_log_list.append([\n",
    "                        row_last.datetime,\n",
    "                        \"exit\",\n",
    "                        pair_key ,\n",
    "                        row_last[ask_price],\n",
    "                        row_last[bid_price],\n",
    "                        row_last[pair_key],\n",
    "                        profit                 \n",
    "                    ])\n",
    "\n",
    "            print(remain_profit)\n",
    "    \n",
    "    profit += remain_profit\n",
    "    \n",
    "    with open(\"entry_exit_log_list_\"+str(entry_top_percent)+\"_\"+str(exit_top_percent)+\"_\"+str(N)+\".pickle\", mode='wb') as f:\n",
    "        pickle.dump(entry_exit_log_list, f)\n",
    "\n",
    "    return [profit,remain_profit, entry_count, exit_count]"
   ]
  },
  {
   "cell_type": "code",
   "execution_count": 79,
   "metadata": {
    "collapsed": true
   },
   "outputs": [],
   "source": []
  },
  {
   "cell_type": "code",
   "execution_count": null,
   "metadata": {
    "collapsed": false
   },
   "outputs": [
    {
     "name": "stdout",
     "output_type": "stream",
     "text": [
      "0.1 0.4\n"
     ]
    }
   ],
   "source": [
    "# 13万件\n",
    "simulation_summary_hukumieki = {}\n",
    "for entry_k in [0.1,0.2,0.3,0.4,0.5,0.6]:\n",
    "    for exit_k in [0.4,0.5,0.6,0.7]:\n",
    "        print(entry_k,exit_k)\n",
    "        summary=simulation(entry_k, exit_k,3600)\n",
    "        print(summary)\n",
    "        simulation_summary_hukumieki[(entry_k,exit_k)] = summary\n",
    "        \n",
    "with open(\"simulation_summary_hukumieki.pickle\", mode='wb') as f:\n",
    "    pickle.dump(simulation_summary_hukumieki, f)"
   ]
  },
  {
   "cell_type": "code",
   "execution_count": 22,
   "metadata": {
    "collapsed": false
   },
   "outputs": [
    {
     "data": {
      "text/plain": [
       "{(0.1, 0.4): [76313.58474799995, -12585.132640000005, 11643, 10401],\n",
       " (0.1, 0.5): [87225.104747999882, -12680.203072000006, 11643, 10316],\n",
       " (0.1, 0.6): [100796.10474799952, -12759.033760000009, 11643, 10277],\n",
       " (0.1, 0.7): [111901.02474799965, -12089.64529600001, 11643, 9976],\n",
       " (0.2, 0.4): [108233.92986799942, -15552.046644000004, 17444, 15944],\n",
       " (0.2, 0.5): [130177.52986800048, -16126.535984000015, 17444, 15782],\n",
       " (0.2, 0.6): [149281.92986800103, -16079.108424000036, 17444, 15310],\n",
       " (0.2, 0.7): [170235.07986799988, -12301.188160000052, 17444, 14762],\n",
       " (0.3, 0.4): [126327.62958800003, -18620.691995999994, 22530, 20847],\n",
       " (0.3, 0.5): [157405.24958800041, -20069.855379999983, 22530, 20357],\n",
       " (0.3, 0.6): [190082.87958800019, -19988.291575999985, 22530, 19645],\n",
       " (0.3, 0.7): [211908.45958800026, -17387.270608000024, 22530, 18921],\n",
       " (0.4, 0.4): [135660.41156799928, -20424.876959999987, 27308, 25469],\n",
       " (0.4, 0.5): [179704.76156799833, -23541.869715999987, 27308, 24546],\n",
       " (0.4, 0.6): [216976.57156800179, -25028.591176000042, 27308, 23659],\n",
       " (0.4, 0.7): [253543.69156799972, -27993.339144000096, 27308, 22476],\n",
       " (0.5, 0.4): [141270.07404400047, -24974.888987999995, 32784, 30420],\n",
       " (0.5, 0.5): [194822.62404399988, -30693.03840400005, 32784, 29266],\n",
       " (0.5, 0.6): [275237.99404400127, -40214.680256000072, 32784, 27644],\n",
       " (0.5, 0.7): [380965.63404399867, -36434.116564000105, 32784, 25583],\n",
       " (0.6, 0.4): [141057.84272799792, -28512.423680000004, 39723, 36881],\n",
       " (0.6, 0.5): [239107.3527279995, -40835.419236000103, 39723, 35040],\n",
       " (0.6, 0.6): [378952.00272800017, -23741.245684000016, 39723, 31176],\n",
       " (0.6, 0.7): [446503.56272800284, 70779.898312001038, 39723, 26201]}"
      ]
     },
     "execution_count": 22,
     "metadata": {},
     "output_type": "execute_result"
    }
   ],
   "source": [
    "simulation_summary_hukumieki"
   ]
  },
  {
   "cell_type": "code",
   "execution_count": 20,
   "metadata": {
    "collapsed": false
   },
   "outputs": [],
   "source": [
    "import csv\n",
    "\n",
    "\n",
    "with open('simulation_summary_hukumieki.csv', 'w') as f:  # Just use 'w' mode in 3.x\n",
    "    w = csv.writer(f)\n",
    "    w.writerows(simulation_summary_hukumieki.items())\n",
    "#     w.writerow(simulation_summary_hukumieki)"
   ]
  }
 ],
 "metadata": {
  "anaconda-cloud": {},
  "kernelspec": {
   "display_name": "Python [Root]",
   "language": "python",
   "name": "Python [Root]"
  },
  "language_info": {
   "codemirror_mode": {
    "name": "ipython",
    "version": 3
   },
   "file_extension": ".py",
   "mimetype": "text/x-python",
   "name": "python",
   "nbconvert_exporter": "python",
   "pygments_lexer": "ipython3",
   "version": "3.5.2"
  }
 },
 "nbformat": 4,
 "nbformat_minor": 0
}

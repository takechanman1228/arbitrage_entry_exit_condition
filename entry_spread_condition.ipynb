{
 "cells": [
  {
   "cell_type": "code",
   "execution_count": 15,
   "metadata": {
    "collapsed": true
   },
   "outputs": [],
   "source": [
    "%matplotlib inline\n",
    "from numpy.random import *\n",
    "import numpy as np\n",
    "import scipy as sp\n",
    "import matplotlib.pyplot as plt\n",
    "import matplotlib.mlab as mlab\n",
    "import seaborn as sns\n",
    "import pandas as pd\n",
    "import math\n",
    "import pickle\n",
    "import time\n",
    "import datetime"
   ]
  },
  {
   "cell_type": "code",
   "execution_count": 63,
   "metadata": {
    "collapsed": false
   },
   "outputs": [
    {
     "data": {
      "text/html": [
       "<div>\n",
       "<table border=\"1\" class=\"dataframe\">\n",
       "  <thead>\n",
       "    <tr style=\"text-align: right;\">\n",
       "      <th></th>\n",
       "      <th>bitFlyer</th>\n",
       "      <th>Quoine</th>\n",
       "      <th>BtcBox</th>\n",
       "      <th>Zaif</th>\n",
       "      <th>coincheck</th>\n",
       "      <th>Spread pair</th>\n",
       "      <th>Max spread</th>\n",
       "      <th>Date</th>\n",
       "    </tr>\n",
       "    <tr>\n",
       "      <th>Date</th>\n",
       "      <th></th>\n",
       "      <th></th>\n",
       "      <th></th>\n",
       "      <th></th>\n",
       "      <th></th>\n",
       "      <th></th>\n",
       "      <th></th>\n",
       "      <th></th>\n",
       "    </tr>\n",
       "  </thead>\n",
       "  <tbody>\n",
       "    <tr>\n",
       "      <th>2016-12-15 01:56:00</th>\n",
       "      <td>90474</td>\n",
       "      <td>90663.00000</td>\n",
       "      <td>90454.0</td>\n",
       "      <td>90445</td>\n",
       "      <td>90799</td>\n",
       "      <td>coincheck - Zaif</td>\n",
       "      <td>354.0</td>\n",
       "      <td>2016-12-15 01:56:00</td>\n",
       "    </tr>\n",
       "    <tr>\n",
       "      <th>2016-12-15 02:01:00</th>\n",
       "      <td>90508</td>\n",
       "      <td>90659.84543</td>\n",
       "      <td>90542.0</td>\n",
       "      <td>90500</td>\n",
       "      <td>90849</td>\n",
       "      <td>coincheck - Zaif</td>\n",
       "      <td>349.0</td>\n",
       "      <td>2016-12-15 02:01:00</td>\n",
       "    </tr>\n",
       "    <tr>\n",
       "      <th>2016-12-15 02:06:00</th>\n",
       "      <td>90637</td>\n",
       "      <td>90799.58457</td>\n",
       "      <td>90657.0</td>\n",
       "      <td>90620</td>\n",
       "      <td>90950</td>\n",
       "      <td>coincheck - Zaif</td>\n",
       "      <td>330.0</td>\n",
       "      <td>2016-12-15 02:06:00</td>\n",
       "    </tr>\n",
       "    <tr>\n",
       "      <th>2016-12-15 02:11:00</th>\n",
       "      <td>90620</td>\n",
       "      <td>90771.10274</td>\n",
       "      <td>90877.0</td>\n",
       "      <td>90650</td>\n",
       "      <td>90943</td>\n",
       "      <td>coincheck - bitFlyer</td>\n",
       "      <td>323.0</td>\n",
       "      <td>2016-12-15 02:11:00</td>\n",
       "    </tr>\n",
       "    <tr>\n",
       "      <th>2016-12-15 02:16:00</th>\n",
       "      <td>90626</td>\n",
       "      <td>90808.00000</td>\n",
       "      <td>90793.0</td>\n",
       "      <td>90630</td>\n",
       "      <td>90894</td>\n",
       "      <td>coincheck - bitFlyer</td>\n",
       "      <td>268.0</td>\n",
       "      <td>2016-12-15 02:16:00</td>\n",
       "    </tr>\n",
       "  </tbody>\n",
       "</table>\n",
       "</div>"
      ],
      "text/plain": [
       "                     bitFlyer       Quoine   BtcBox   Zaif  coincheck  \\\n",
       "Date                                                                    \n",
       "2016-12-15 01:56:00     90474  90663.00000  90454.0  90445      90799   \n",
       "2016-12-15 02:01:00     90508  90659.84543  90542.0  90500      90849   \n",
       "2016-12-15 02:06:00     90637  90799.58457  90657.0  90620      90950   \n",
       "2016-12-15 02:11:00     90620  90771.10274  90877.0  90650      90943   \n",
       "2016-12-15 02:16:00     90626  90808.00000  90793.0  90630      90894   \n",
       "\n",
       "                              Spread pair  Max spread                Date  \n",
       "Date                                                                       \n",
       "2016-12-15 01:56:00      coincheck - Zaif       354.0 2016-12-15 01:56:00  \n",
       "2016-12-15 02:01:00      coincheck - Zaif       349.0 2016-12-15 02:01:00  \n",
       "2016-12-15 02:06:00      coincheck - Zaif       330.0 2016-12-15 02:06:00  \n",
       "2016-12-15 02:11:00  coincheck - bitFlyer       323.0 2016-12-15 02:11:00  \n",
       "2016-12-15 02:16:00  coincheck - bitFlyer       268.0 2016-12-15 02:16:00  "
      ]
     },
     "execution_count": 63,
     "metadata": {},
     "output_type": "execute_result"
    }
   ],
   "source": [
    "df_market_spread=pd.read_csv(\"./View of Market Spread.csv\")\n",
    "df_market_spread.Date=pd.to_datetime(df_market_spread.Date)\n",
    "df_market_spread.index = df_market_spread.Date\n",
    "df_market_spread.head()"
   ]
  },
  {
   "cell_type": "code",
   "execution_count": 11,
   "metadata": {
    "collapsed": false
   },
   "outputs": [],
   "source": [
    "df_market_spread[\"spread_coincheck_quoine\"] = df_market_spread[\"coincheck\"] - df_market_spread[\"Quoine\"] \n",
    "df_market_spread[\"spread_coincheck_quoine\"] = df_market_spread[\"coincheck\"] - df_market_spread[\"Quoine\"] "
   ]
  },
  {
   "cell_type": "code",
   "execution_count": 82,
   "metadata": {
    "collapsed": false
   },
   "outputs": [
    {
     "name": "stdout",
     "output_type": "stream",
     "text": [
      "spread_bitFlyer_Quoine ('bitFlyer', 'Quoine')\n",
      "spread_bitFlyer_Zaif ('bitFlyer', 'Zaif')\n",
      "spread_bitFlyer_coincheck ('bitFlyer', 'coincheck')\n",
      "spread_Quoine_bitFlyer ('Quoine', 'bitFlyer')\n",
      "spread_Quoine_Zaif ('Quoine', 'Zaif')\n",
      "spread_Quoine_coincheck ('Quoine', 'coincheck')\n",
      "spread_Zaif_bitFlyer ('Zaif', 'bitFlyer')\n",
      "spread_Zaif_Quoine ('Zaif', 'Quoine')\n",
      "spread_Zaif_coincheck ('Zaif', 'coincheck')\n",
      "spread_coincheck_bitFlyer ('coincheck', 'bitFlyer')\n",
      "spread_coincheck_Quoine ('coincheck', 'Quoine')\n",
      "spread_coincheck_Zaif ('coincheck', 'Zaif')\n"
     ]
    }
   ],
   "source": [
    "import itertools\n",
    "exchange_pairs = list(itertools.permutations([\"bitFlyer\",\"Quoine\",\"Zaif\",\"coincheck\" ], 2))\n",
    "exchange_pair_list = list(map(lambda pair: \"spread_\"+pair[0] + '_' + pair[1], exchange_pairs))\n",
    "for name, pair in zip(exchange_pair_list,exchange_pairs):\n",
    "    print(name, pair)\n",
    "    df_market_spread[name] = df_market_spread[pair[0]] - df_market_spread[pair[1]] "
   ]
  },
  {
   "cell_type": "code",
   "execution_count": 83,
   "metadata": {
    "collapsed": true
   },
   "outputs": [],
   "source": [
    "df_market_spread_2017=df_market_spread[(df_market_spread['Date']>\"2017-01-01\") & (df_market_spread['Date']<\"2017-12-31\")]"
   ]
  },
  {
   "cell_type": "code",
   "execution_count": 86,
   "metadata": {
    "collapsed": false
   },
   "outputs": [
    {
     "data": {
      "text/plain": [
       "<matplotlib.axes._subplots.AxesSubplot at 0x138899ac8>"
      ]
     },
     "execution_count": 86,
     "metadata": {},
     "output_type": "execute_result"
    },
    {
     "data": {
      "image/png": "[encoded data removed]",
      "text/plain": [
       "<matplotlib.figure.Figure at 0x13c337278>"
      ]
     },
     "metadata": {},
     "output_type": "display_data"
    }
   ],
   "source": [
    "df_market_spread_2017[\"spread_coincheck_Quoine\"].hist(bins=100, range=(-10000, 10000))"
   ]
  },
  {
   "cell_type": "code",
   "execution_count": 87,
   "metadata": {
    "collapsed": false
   },
   "outputs": [
    {
     "data": {
      "text/plain": [
       "Index(['bitFlyer', 'Quoine', 'BtcBox', 'Zaif', 'coincheck', 'Spread pair',\n",
       "       'Max spread', 'Date', 'name', 'spread_bitFlyer_Quoine',\n",
       "       'spread_bitFlyer_Zaif', 'spread_bitFlyer_coincheck',\n",
       "       'spread_Quoine_bitFlyer', 'spread_Quoine_Zaif',\n",
       "       'spread_Quoine_coincheck', 'spread_Zaif_bitFlyer', 'spread_Zaif_Quoine',\n",
       "       'spread_Zaif_coincheck', 'spread_coincheck_bitFlyer',\n",
       "       'spread_coincheck_Quoine', 'spread_coincheck_Zaif'],\n",
       "      dtype='object')"
      ]
     },
     "execution_count": 87,
     "metadata": {},
     "output_type": "execute_result"
    }
   ],
   "source": [
    "df_market_spread_2017.columns"
   ]
  },
  {
   "cell_type": "code",
   "execution_count": 88,
   "metadata": {
    "collapsed": false
   },
   "outputs": [
    {
     "name": "stderr",
     "output_type": "stream",
     "text": [
      "/Users/take/.pyenv/versions/anaconda3-4.1.0/lib/python3.5/site-packages/ipykernel/__main__.py:1: SettingWithCopyWarning: \n",
      "A value is trying to be set on a copy of a slice from a DataFrame.\n",
      "Try using .loc[row_indexer,col_indexer] = value instead\n",
      "\n",
      "See the caveats in the documentation: http://pandas.pydata.org/pandas-docs/stable/indexing.html#indexing-view-versus-copy\n",
      "  if __name__ == '__main__':\n"
     ]
    }
   ],
   "source": [
    "df_market_spread_2017[\"month\"]= df_market_spread_2017.apply(lambda x: x['Date'].month, axis=1)"
   ]
  },
  {
   "cell_type": "code",
   "execution_count": 89,
   "metadata": {
    "collapsed": false
   },
   "outputs": [
    {
     "data": {
      "text/plain": [
       "<matplotlib.legend.Legend at 0x13c397ef0>"
      ]
     },
     "execution_count": 89,
     "metadata": {},
     "output_type": "execute_result"
    },
    {
     "data": {
      "image/png": "[encoded data removed]",
      "text/plain": [
       "<matplotlib.figure.Figure at 0x13c355470>"
      ]
     },
     "metadata": {},
     "output_type": "display_data"
    }
   ],
   "source": [
    "plt.figure()#初期化\n",
    "target_month = range(8,11)\n",
    "for month in target_month:\n",
    "    ax = df_market_spread_2017[df_market_spread_2017['month'] == month][\"spread_coincheck_Quoine\"].plot.hist(bins=100, range=(-5000, 5000), alpha=0.6,legend=True)\n",
    "ax.legend(target_month, loc='best')"
   ]
  },
  {
   "cell_type": "code",
   "execution_count": 90,
   "metadata": {
    "collapsed": false
   },
   "outputs": [
    {
     "data": {
      "text/plain": [
       "<matplotlib.legend.Legend at 0x121997e10>"
      ]
     },
     "execution_count": 90,
     "metadata": {},
     "output_type": "execute_result"
    },
    {
     "data": {
      "image/png": "[encoded data removed]",
      "text/plain": [
       "<matplotlib.figure.Figure at 0x13c38c860>"
      ]
     },
     "metadata": {},
     "output_type": "display_data"
    }
   ],
   "source": [
    "plt.figure()#初期化\n",
    "target_month = range(8,11)\n",
    "for month in target_month:\n",
    "    ax = df_market_spread_2017[df_market_spread_2017['month'] == month][\"spread_bitFlyer_Quoine\"].plot.hist(bins=100, range=(-5000, 5000), alpha=0.6,legend=True)\n",
    "ax.legend(target_month, loc='best')"
   ]
  },
  {
   "cell_type": "code",
   "execution_count": null,
   "metadata": {
    "collapsed": false
   },
   "outputs": [],
   "source": []
  },
  {
   "cell_type": "code",
   "execution_count": null,
   "metadata": {
    "collapsed": true
   },
   "outputs": [],
   "source": []
  }
 ],
 "metadata": {
  "kernelspec": {
   "display_name": "Python [Root]",
   "language": "python",
   "name": "Python [Root]"
  },
  "language_info": {
   "codemirror_mode": {
    "name": "ipython",
    "version": 3
   },
   "file_extension": ".py",
   "mimetype": "text/x-python",
   "name": "python",
   "nbconvert_exporter": "python",
   "pygments_lexer": "ipython3",
   "version": "3.5.1"
  }
 },
 "nbformat": 4,
 "nbformat_minor": 0
}
